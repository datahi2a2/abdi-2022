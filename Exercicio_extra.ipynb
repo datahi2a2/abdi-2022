{
 "cells": [
  {
   "cell_type": "markdown",
   "metadata": {},
   "source": [
    "## Usando análise química para determinar a qualidade de vinhos\n",
    "\n",
    "Detalhes do conjunto de dados podem ser encontrdos no portal [CI Machine Learning Repository](https://archive.ics.uci.edu/ml/datasets/wine)\n",
    "\n",
    "<center><img src=\"https://raw.githubusercontent.com/rauanisanfelice/python-wine/master/img/wine.jpeg\", width=500></center> \n",
    "\n",
    "Esse dataset contém um conjunto de atributos (dados de sensores) sobre o processo de fabricação de vinhos.\n",
    "Esses dados são utilizados para classificar, ao final do processo, a qualidade do vinho obtido. Existem informações como o teor alcoólico e nível de acidez. "
   ]
  },
  {
   "cell_type": "code",
   "execution_count": null,
   "metadata": {
    "colab": {
     "base_uri": "https://localhost:8080/",
     "height": 71
    },
    "colab_type": "code",
    "id": "5CLt7wA4chKi",
    "outputId": "8e61f655-30d6-4a8f-fe80-9626fe06cca8"
   },
   "outputs": [],
   "source": [
    "#Carregando as bibliotecas\n",
    "import pandas as pd\n",
    "import numpy as np\n",
    "from matplotlib import pyplot as plt\n",
    "import seaborn as sns\n",
    "import datetime"
   ]
  },
  {
   "cell_type": "code",
   "execution_count": null,
   "metadata": {
    "colab": {},
    "colab_type": "code",
    "id": "mVvNYUawgrZ_"
   },
   "outputs": [],
   "source": [
    "#carregando o conjunto de dados\n",
    "dados = pd.read_csv('winequality-red.csv', sep=';')"
   ]
  },
  {
   "cell_type": "markdown",
   "metadata": {},
   "source": [
    "# Questão 1\n",
    "Qual a justificativa em utilizar o **sep=';'** na carga do dados?"
   ]
  },
  {
   "cell_type": "markdown",
   "metadata": {},
   "source": [
    "# Visualizando o conjunto de dados"
   ]
  },
  {
   "cell_type": "code",
   "execution_count": null,
   "metadata": {
    "colab": {
     "base_uri": "https://localhost:8080/",
     "height": 258
    },
    "colab_type": "code",
    "id": "Fp6oRjUhg6BM",
    "outputId": "7ccb8ff8-0ffe-42af-a586-a50877aa966c"
   },
   "outputs": [],
   "source": [
    "dados.head(5)"
   ]
  },
  {
   "cell_type": "markdown",
   "metadata": {},
   "source": [
    "# Verificando informações do conjunto de dados"
   ]
  },
  {
   "cell_type": "code",
   "execution_count": null,
   "metadata": {
    "colab": {
     "base_uri": "https://localhost:8080/",
     "height": 340
    },
    "colab_type": "code",
    "id": "2yeWqpPIg8cp",
    "outputId": "7904f986-32e2-4b81-f18b-62b62512f940"
   },
   "outputs": [],
   "source": [
    "dados.info()"
   ]
  },
  {
   "cell_type": "markdown",
   "metadata": {},
   "source": [
    "# Questão 2 \n",
    "Quantas instâncias (registros) de vinhos e que atributos (características) cada um deles o conjunto de dados possui?"
   ]
  },
  {
   "cell_type": "markdown",
   "metadata": {},
   "source": [
    "# Questão 3\n",
    "Quantos tipos diferentes de dados existem no conjunto de dados?"
   ]
  },
  {
   "cell_type": "markdown",
   "metadata": {},
   "source": [
    "# Questão 4\n",
    "Algum registro possui valores nulos?"
   ]
  },
  {
   "cell_type": "markdown",
   "metadata": {},
   "source": [
    "# Uma visão geral do conjunto de dados"
   ]
  },
  {
   "cell_type": "code",
   "execution_count": null,
   "metadata": {},
   "outputs": [],
   "source": [
    "dados.describe()"
   ]
  },
  {
   "cell_type": "markdown",
   "metadata": {},
   "source": [
    "# Questão 5\n",
    "Qual é o desvio padrão para a variável \"fixed acidity\"?"
   ]
  },
  {
   "cell_type": "markdown",
   "metadata": {},
   "source": [
    "# Questão 6\n",
    "Qual é a mediana para a variável \"residual sugar\"?"
   ]
  },
  {
   "cell_type": "markdown",
   "metadata": {},
   "source": [
    "# Matriz de Correlação de Pearson"
   ]
  },
  {
   "cell_type": "code",
   "execution_count": null,
   "metadata": {},
   "outputs": [],
   "source": [
    "plt.figure(figsize=(9,9))\n",
    "matriz_correlacao=dados.corr(method='pearson')\n",
    "sns.heatmap(matriz_correlacao,annot=True)\n",
    "plt.show()"
   ]
  },
  {
   "cell_type": "markdown",
   "metadata": {},
   "source": [
    "# Questão 7\n",
    "Qual o valor do coeficiente de correlação de Pearson entre as variáveis \"fixed acidity\" e \"pH\"?"
   ]
  },
  {
   "cell_type": "markdown",
   "metadata": {},
   "source": [
    "# Questão 7.1\n",
    "- Qual a interpretação do Coeficiente de Correlação?\n",
    "- Explique Correlação x Causalidade"
   ]
  },
  {
   "cell_type": "markdown",
   "metadata": {},
   "source": [
    "# Questão 8\n",
    "Qual é o valor do coeficiente de correlação de Pearson entre as variáveis \"quality\" e \"alcohol\" e como podemos [interpretá-la](https://pt.wikipedia.org/wiki/Coeficiente_de_correla%C3%A7%C3%A3o_de_Pearson) (forte, fraca, etc ...) "
   ]
  },
  {
   "cell_type": "markdown",
   "metadata": {},
   "source": [
    "# Questão 9\n",
    "- Quantas instâncias existem para a variável 'quality' (qualidade do vinho) com valor igual a 5?    \n",
    "- O Conjunto de dados é balanceado?\n",
    "- Quantas classes (qualidade) distintas o conjunto de dados possui?"
   ]
  },
  {
   "cell_type": "markdown",
   "metadata": {},
   "source": [
    "# Identificando possíveis outliers"
   ]
  },
  {
   "cell_type": "code",
   "execution_count": null,
   "metadata": {
    "colab": {
     "base_uri": "https://localhost:8080/",
     "height": 519
    },
    "colab_type": "code",
    "id": "OCm_PLNKvOXk",
    "outputId": "7baade10-ce07-4819-8579-9e2539517c82",
    "scrolled": true
   },
   "outputs": [],
   "source": [
    "plt.figure(figsize=(10, 10),dpi=100)\n",
    "dados[['fixed acidity', 'volatile acidity', 'citric acid', 'residual sugar',\n",
    "       'chlorides', 'free sulfur dioxide', 'total sulfur dioxide', 'density',\n",
    "       'pH', 'sulphates', 'alcohol', 'quality']].boxplot()\n",
    "plt.xticks(rotation='vertical')"
   ]
  },
  {
   "cell_type": "markdown",
   "metadata": {},
   "source": [
    "# Questão 10\n",
    "\n",
    "- Observe a figura, consegue identificar os outliers?\n",
    "- Atente para a escala do lado esquerdo da figura; procure relacionar a escala para cada uma das variáveis."
   ]
  },
  {
   "cell_type": "markdown",
   "metadata": {},
   "source": [
    "# Normalizando os dados\n",
    "\n",
    "Aplicaremos o modelo de normalização MinMaxScaler com os valores \"default\" para o conjunto de dados"
   ]
  },
  {
   "cell_type": "code",
   "execution_count": null,
   "metadata": {
    "scrolled": true
   },
   "outputs": [],
   "source": [
    "#Normalização o conjunto de dados.\n",
    "from sklearn.preprocessing import MinMaxScaler\n",
    "\n",
    "dataset_values = dados.values\n",
    "#cria o objeto que realiza a normalização dos dados por meio dos valores mínimos e máximos\n",
    "scaler = MinMaxScaler(feature_range=(0.1, 0.9)) \n",
    "dataset = scaler.fit(dataset_values)\n",
    "\n",
    "#Aplicando a escala, normalizando valores na escala de 0 a 1\n",
    "dataset = scaler.fit_transform(dataset_values)\n",
    "#nomeando colunas do novo dataFrame \n",
    "colunas = dados.columns \n",
    "\n",
    "#cria o dataframe com valore normalizados\n",
    "dados_normalizados = pd.DataFrame(dataset,columns=[colunas])\n",
    "dados_normalizados.head()"
   ]
  },
  {
   "cell_type": "markdown",
   "metadata": {},
   "source": [
    "# Identificando possíveis outliers com valores normalizados"
   ]
  },
  {
   "cell_type": "code",
   "execution_count": null,
   "metadata": {},
   "outputs": [],
   "source": [
    "plt.figure(figsize=(20, 10),dpi=100)\n",
    "dados_normalizados[['fixed acidity', 'volatile acidity', 'citric acid', 'residual sugar',\n",
    "       'chlorides', 'free sulfur dioxide', 'total sulfur dioxide', 'density',\n",
    "       'pH', 'sulphates', 'alcohol', 'quality']].boxplot()\n",
    "plt.xticks(rotation='vertical')"
   ]
  },
  {
   "cell_type": "markdown",
   "metadata": {},
   "source": [
    "# Questão 11\n",
    "- Observe a figura, consegue identificar os outliers?\n",
    "- Atente para a escala do lado esquerdo da figura; procure relacionar a escala para cada uma das variáveis.\n",
    "- Compare as visualizações antes e após a normalização."
   ]
  },
  {
   "cell_type": "markdown",
   "metadata": {},
   "source": [
    "# Dividindo o conjunto de dados entre entradas (X) e saídas (y)"
   ]
  },
  {
   "cell_type": "code",
   "execution_count": null,
   "metadata": {},
   "outputs": [],
   "source": [
    "# Seleção das features pelo nome da coluna\n",
    "X = dados[['fixed acidity', 'volatile acidity', 'citric acid', 'residual sugar',\n",
    "           'chlorides', 'free sulfur dioxide', 'total sulfur dioxide', 'density',\n",
    "           'pH', 'sulphates', 'alcohol']].values\n",
    "y = dados['quality'].values"
   ]
  },
  {
   "cell_type": "markdown",
   "metadata": {},
   "source": [
    "# Questão 12\n",
    "Normalize as entradas entre 0 e 1, utilizando **MinMaxScaler**"
   ]
  },
  {
   "cell_type": "markdown",
   "metadata": {},
   "source": [
    "# Questão 13\n",
    "Divida o conjunto de dados em 65% de dados para treinamento e 35% de dados para testes"
   ]
  },
  {
   "cell_type": "markdown",
   "metadata": {
    "colab_type": "text",
    "id": "uJSW34SvFACw"
   },
   "source": [
    "# Treinando um Algoritmo KNN "
   ]
  },
  {
   "cell_type": "code",
   "execution_count": null,
   "metadata": {
    "colab": {
     "base_uri": "https://localhost:8080/",
     "height": 68
    },
    "colab_type": "code",
    "id": "h4xfaanoCjtq",
    "outputId": "ad97289c-f7f3-44b7-af61-39f673e21f13"
   },
   "outputs": [],
   "source": [
    "from sklearn.neighbors import KNeighborsClassifier\n",
    "from sklearn.metrics import accuracy_score\n",
    "clf_KNN = KNeighborsClassifier(n_neighbors=5) \n",
    "clf_KNN.fit(X_train, y_train) \n",
    "y_pred_KNN = clf_KNN.predict(X_test)\n",
    "print(\"Acuracia para classificador KNN: \", accuracy_score(y_pred_KNN,y_test))"
   ]
  },
  {
   "cell_type": "code",
   "execution_count": null,
   "metadata": {
    "colab": {
     "base_uri": "https://localhost:8080/",
     "height": 279
    },
    "colab_type": "code",
    "id": "roZFM6KImDNn",
    "outputId": "76cf6174-9d8a-44f5-925c-4a29858233fc",
    "scrolled": true
   },
   "outputs": [],
   "source": [
    "from sklearn.metrics import classification_report, confusion_matrix\n",
    "\n",
    "print(confusion_matrix(y_test, y_pred_KNN))\n"
   ]
  },
  {
   "cell_type": "code",
   "execution_count": null,
   "metadata": {},
   "outputs": [],
   "source": [
    "#realiza o plot da matriz de confusão\n",
    "from sklearn.metrics import plot_confusion_matrix\n",
    "plt.rcParams[\"figure.figsize\"]=(8, 8)\n",
    "plot_confusion_matrix(clf_KNN, X_test, y_test)\n",
    "plt.show()"
   ]
  },
  {
   "cell_type": "code",
   "execution_count": null,
   "metadata": {},
   "outputs": [],
   "source": [
    "# Crie um relatório de texto mostrando as principais métricas de classificação.\n",
    "print(classification_report(y_test, y_pred_KNN))"
   ]
  },
  {
   "cell_type": "code",
   "execution_count": null,
   "metadata": {},
   "outputs": [],
   "source": [
    "# Acurácia do modelo\n",
    "from sklearn.metrics import accuracy_score\n",
    "\n",
    "acuracia_KNN = accuracy_score(y_test, y_pred_KNN)"
   ]
  },
  {
   "cell_type": "code",
   "execution_count": null,
   "metadata": {},
   "outputs": [],
   "source": [
    "print(f'A acurária para o KNN é {acuracia_KNN}')"
   ]
  },
  {
   "cell_type": "markdown",
   "metadata": {},
   "source": [
    "# Questão 14\n",
    "Teste o modelo com outros valores para n_neighbors e compare o resultado."
   ]
  },
  {
   "cell_type": "markdown",
   "metadata": {},
   "source": [
    "# Questão 15\n",
    "- Treine um Algoritmo de Árvore de Decisão utilizando os dados de entrada normalizados.\n",
    "        - Calcule a acurácia;\n",
    "        - Apresente a matriz de confusão;\n",
    "        - Apresente precision | recall | f1-score, utilizando o classification_report;\n",
    "        - Utilize DecisionTreeClassifier."
   ]
  },
  {
   "cell_type": "markdown",
   "metadata": {},
   "source": [
    "# Questão 16\n",
    "- Treine um Algoritmo de Floresta Randômica utilizando os dados de entrada normalizados.\n",
    "        - Calcule a acurácia;\n",
    "        - Apresente a matriz de confusão;\n",
    "        - Apresente precision | recall | f1-score, utilizando o classification_report;\n",
    "        - Utilize RandomForestClassifier(max_depth=10)"
   ]
  },
  {
   "cell_type": "markdown",
   "metadata": {},
   "source": [
    "# Questão 17\n",
    "- Treine um Algoritmo SVM utilizando os dados de entrada normalizados.\n",
    "        - Calcule a acurácia;\n",
    "        - Apresente a matriz de confusão;\n",
    "        - Apresente precision | recall | f1-score, utilizando o classification_report;\n",
    "        - Utilize SVC(gamma='auto', kernel='rbf')"
   ]
  },
  {
   "cell_type": "markdown",
   "metadata": {},
   "source": [
    "# Questão 18\n",
    "- Treine um Algoritmo MLP utilizando os dados de entrada normalizados.\n",
    "        - Calcule a acurácia;\n",
    "        - Apresente a matriz de confusão;\n",
    "        - Apresente precision | recall | f1-score, utilizando o classification_report;\n",
    "        - Utilize MLPClassifier( alpha=1e-5, hidden_layer_sizes=(5, 5), random_state=1)."
   ]
  },
  {
   "cell_type": "markdown",
   "metadata": {},
   "source": [
    "# Questão 19\n",
    "- Compare a acurácia de todos os classificadores utilizados."
   ]
  },
  {
   "cell_type": "markdown",
   "metadata": {},
   "source": [
    "# Classificador binário (2 classes)\n",
    "\n",
    "- Vamos modificar nosso conjunto de dados de forma a implmentar um classificador binário, isto é o vinho é bom ou não 2.    \n",
    "- Consideraremos as qualidades 3, 4 e 5 como vinhos ruins (valor 0). Já as qualidades 6, 7 e 8 serão vinhos bons (valor 1)."
   ]
  },
  {
   "cell_type": "code",
   "execution_count": null,
   "metadata": {},
   "outputs": [],
   "source": [
    "#Fazendo uma cópia dos ados\n",
    "dados2 = dados.copy()\n",
    "#Criando a nova coluna e atribuindo valores conforme considerações acima\n",
    "dados2['new_quality']= dados2['quality'].apply(lambda x: 0 if x<=5 else 1)\n",
    "#Apagando a coluna qualidade antiga\n",
    "dados2.drop(labels=['quality'],axis=1, inplace=True)"
   ]
  },
  {
   "cell_type": "code",
   "execution_count": null,
   "metadata": {},
   "outputs": [],
   "source": [
    "dados2.head()"
   ]
  },
  {
   "cell_type": "markdown",
   "metadata": {},
   "source": [
    "# Questão 20\n",
    "- Para o melhor classificador (maior acurácia) encontrado na questão 19, refaça o processo de:\n",
    "        - Separação dos daados de entrada e saída;\n",
    "        - Normalização;\n",
    "        - Divisão do conjunto de dados (treinamento e testes);\n",
    "        - Treinamento;\n",
    "        - Predição; e\n",
    "        - Métricas de qualidade."
   ]
  }
 ],
 "metadata": {
  "colab": {
   "collapsed_sections": [],
   "name": "desafio_2.ipynb",
   "provenance": []
  },
  "kernelspec": {
   "display_name": "Python 3",
   "language": "python",
   "name": "python3"
  },
  "language_info": {
   "codemirror_mode": {
    "name": "ipython",
    "version": 3
   },
   "file_extension": ".py",
   "mimetype": "text/x-python",
   "name": "python",
   "nbconvert_exporter": "python",
   "pygments_lexer": "ipython3",
   "version": "3.8.10"
  }
 },
 "nbformat": 4,
 "nbformat_minor": 1
}
