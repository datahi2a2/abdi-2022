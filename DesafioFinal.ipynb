{
 "cells": [
  {
   "cell_type": "markdown",
   "id": "bba6c6de",
   "metadata": {},
   "source": [
    "<img src=\"https://sedu.es.gov.br/Media/sedu/_Profiles/c4d8c6e6/982b8e1d/inscricoes-enem-2021-1.png?v=637783383873645750\" alt=\"jupyter\" style=\"width: 300px;\" align=\"right\"/>\n",
    "\n",
    "# Projeto Final Big Data Science\n",
    "\n",
    "Vagner Sanches Vasconcelos    \n",
    "vsvasconcelos@gmail.com"
   ]
  },
  {
   "cell_type": "markdown",
   "id": "30e891e7",
   "metadata": {},
   "source": [
    "#  <a name=\"resumo\"> RESUMO </a>"
   ]
  },
  {
   "cell_type": "markdown",
   "id": "04a0a510",
   "metadata": {},
   "source": [
    "Este projeto tem como objetivo estudar os dados do Exame Nacional do Ensino Médio (Enem) de 2021."
   ]
  },
  {
   "cell_type": "markdown",
   "id": "2c2566f7",
   "metadata": {},
   "source": [
    "#  <a name=\"indice\">  Índice </a>"
   ]
  },
  {
   "cell_type": "markdown",
   "id": "94f4233c",
   "metadata": {},
   "source": [
    "* [Resumo](#resumo)\n",
    "* [Índice](#indice)\n",
    "* [1. Definição do Problema](#secao_1)\n",
    "* [2. Obtendo os Dados](#secao_2)\n",
    "* [3. Limpando os Dados](#secao_3)\n",
    "* [4. Análise Exploratória dos Dados](#secao_4)\n",
    "* [5. Formulação de Hipoteses e Testes ](#secao_5)\n",
    "* [6. Construindo e Testando Modelos](#secao_6) \n",
    "* [Conclusão](#conclusao)"
   ]
  },
  {
   "cell_type": "markdown",
   "id": "2ea040f8",
   "metadata": {},
   "source": [
    "#  <a name=\"secao_1\"> 1. Definição do Problema </a>\n",
    "[voltar ao índice](#indice)"
   ]
  },
  {
   "cell_type": "markdown",
   "id": "ee6f91c7",
   "metadata": {},
   "source": [
    "O Enem foi instituído em 1998, com o objetivo de avaliar o desempenho escolar dos estudantes ao término da educação básica. Em 2009, o exame aperfeiçou sua metodologia e passou a ser utilizado como mecanismo de acesso à educação superior.   \n",
    "Neste trabalho analisaremos os últimos dados disponiveis que são do ano de 2021.    \n",
    "O objetivo é descobrir a participação das pessoas com 25 anos ou mais neste processo."
   ]
  },
  {
   "cell_type": "markdown",
   "id": "effabb61",
   "metadata": {},
   "source": [
    "#  <a name=\"secao_2\"> 2. Obtendo os dados </a>\n",
    "[voltar ao índice](#indice)"
   ]
  },
  {
   "cell_type": "markdown",
   "id": "9466433f",
   "metadata": {},
   "source": [
    "Os [microdados](https://www.gov.br/inep/pt-br/acesso-a-informacao/dados-abertos/microdados\n",
    ") do Inep reúnem um conjunto de informações detalhadas relacionadas às pesquisas, aos exames e avaliações do Instituto.    \n",
    "No [portal do Instituto](https://download.inep.gov.br/microdados/microdados_enem_2021.zip)  é possível baixar os dados disponíveis, sendo o ano de 2021 os mais atuais.    \n",
    "Depois de baixado e descompactado, tem-se uma série de pastas, sendo que na pasta \"DADOS\", temos o arquivo \"MICRODADOS_ENEM_2021.csv, que é o conjunto de dados, e possui tamanho de 1,5GB.   \n",
    "Devido o tamanho do arquivo, foi utilizado a biblioteca de computação paralela [Dask](https://www.dask.org/) para sua leitura."
   ]
  },
  {
   "cell_type": "code",
   "execution_count": 1,
   "id": "8f555dc7",
   "metadata": {},
   "outputs": [],
   "source": [
    "#Importando as bibliotecas\n",
    "import pandas as pd\n",
    "import dask.dataframe as dd \n",
    "from matplotlib import pyplot as plt\n",
    "from dask.diagnostics import ProgressBar\n",
    "import numpy as np"
   ]
  },
  {
   "cell_type": "code",
   "execution_count": 2,
   "id": "08a9c53e",
   "metadata": {},
   "outputs": [],
   "source": [
    "#Carregando a base de dados num dataframa Dask\n",
    "df = dd.read_csv(\"./microdados_enem_2021/DADOS/MICRODADOS_ENEM_2021.csv\",sep = ';', encoding = 'latin1',\n",
    "                 dtype={'Q005': 'float64'})"
   ]
  },
  {
   "cell_type": "code",
   "execution_count": 3,
   "id": "ecce4535",
   "metadata": {},
   "outputs": [
    {
     "data": {
      "text/html": [
       "<div>\n",
       "<style scoped>\n",
       "    .dataframe tbody tr th:only-of-type {\n",
       "        vertical-align: middle;\n",
       "    }\n",
       "\n",
       "    .dataframe tbody tr th {\n",
       "        vertical-align: top;\n",
       "    }\n",
       "\n",
       "    .dataframe thead th {\n",
       "        text-align: right;\n",
       "    }\n",
       "</style>\n",
       "<table border=\"1\" class=\"dataframe\">\n",
       "  <thead>\n",
       "    <tr style=\"text-align: right;\">\n",
       "      <th></th>\n",
       "      <th>NU_INSCRICAO</th>\n",
       "      <th>NU_ANO</th>\n",
       "      <th>TP_FAIXA_ETARIA</th>\n",
       "      <th>TP_SEXO</th>\n",
       "      <th>TP_ESTADO_CIVIL</th>\n",
       "      <th>TP_COR_RACA</th>\n",
       "      <th>TP_NACIONALIDADE</th>\n",
       "      <th>TP_ST_CONCLUSAO</th>\n",
       "      <th>TP_ANO_CONCLUIU</th>\n",
       "      <th>TP_ESCOLA</th>\n",
       "      <th>...</th>\n",
       "      <th>Q016</th>\n",
       "      <th>Q017</th>\n",
       "      <th>Q018</th>\n",
       "      <th>Q019</th>\n",
       "      <th>Q020</th>\n",
       "      <th>Q021</th>\n",
       "      <th>Q022</th>\n",
       "      <th>Q023</th>\n",
       "      <th>Q024</th>\n",
       "      <th>Q025</th>\n",
       "    </tr>\n",
       "  </thead>\n",
       "  <tbody>\n",
       "    <tr>\n",
       "      <th>0</th>\n",
       "      <td>210053865474</td>\n",
       "      <td>2021</td>\n",
       "      <td>5</td>\n",
       "      <td>F</td>\n",
       "      <td>1</td>\n",
       "      <td>1</td>\n",
       "      <td>1</td>\n",
       "      <td>1</td>\n",
       "      <td>3</td>\n",
       "      <td>1</td>\n",
       "      <td>...</td>\n",
       "      <td>A</td>\n",
       "      <td>A</td>\n",
       "      <td>A</td>\n",
       "      <td>B</td>\n",
       "      <td>A</td>\n",
       "      <td>A</td>\n",
       "      <td>B</td>\n",
       "      <td>A</td>\n",
       "      <td>B</td>\n",
       "      <td>B</td>\n",
       "    </tr>\n",
       "    <tr>\n",
       "      <th>1</th>\n",
       "      <td>210052384164</td>\n",
       "      <td>2021</td>\n",
       "      <td>12</td>\n",
       "      <td>M</td>\n",
       "      <td>1</td>\n",
       "      <td>1</td>\n",
       "      <td>1</td>\n",
       "      <td>1</td>\n",
       "      <td>11</td>\n",
       "      <td>1</td>\n",
       "      <td>...</td>\n",
       "      <td>A</td>\n",
       "      <td>A</td>\n",
       "      <td>A</td>\n",
       "      <td>B</td>\n",
       "      <td>A</td>\n",
       "      <td>A</td>\n",
       "      <td>C</td>\n",
       "      <td>A</td>\n",
       "      <td>A</td>\n",
       "      <td>A</td>\n",
       "    </tr>\n",
       "    <tr>\n",
       "      <th>2</th>\n",
       "      <td>210052589243</td>\n",
       "      <td>2021</td>\n",
       "      <td>13</td>\n",
       "      <td>F</td>\n",
       "      <td>3</td>\n",
       "      <td>1</td>\n",
       "      <td>1</td>\n",
       "      <td>1</td>\n",
       "      <td>15</td>\n",
       "      <td>1</td>\n",
       "      <td>...</td>\n",
       "      <td>B</td>\n",
       "      <td>A</td>\n",
       "      <td>A</td>\n",
       "      <td>B</td>\n",
       "      <td>A</td>\n",
       "      <td>A</td>\n",
       "      <td>C</td>\n",
       "      <td>B</td>\n",
       "      <td>B</td>\n",
       "      <td>B</td>\n",
       "    </tr>\n",
       "    <tr>\n",
       "      <th>3</th>\n",
       "      <td>210052128335</td>\n",
       "      <td>2021</td>\n",
       "      <td>3</td>\n",
       "      <td>M</td>\n",
       "      <td>1</td>\n",
       "      <td>3</td>\n",
       "      <td>1</td>\n",
       "      <td>2</td>\n",
       "      <td>0</td>\n",
       "      <td>2</td>\n",
       "      <td>...</td>\n",
       "      <td>A</td>\n",
       "      <td>A</td>\n",
       "      <td>A</td>\n",
       "      <td>B</td>\n",
       "      <td>A</td>\n",
       "      <td>A</td>\n",
       "      <td>B</td>\n",
       "      <td>A</td>\n",
       "      <td>B</td>\n",
       "      <td>B</td>\n",
       "    </tr>\n",
       "    <tr>\n",
       "      <th>4</th>\n",
       "      <td>210051353021</td>\n",
       "      <td>2021</td>\n",
       "      <td>2</td>\n",
       "      <td>F</td>\n",
       "      <td>1</td>\n",
       "      <td>3</td>\n",
       "      <td>1</td>\n",
       "      <td>2</td>\n",
       "      <td>0</td>\n",
       "      <td>2</td>\n",
       "      <td>...</td>\n",
       "      <td>B</td>\n",
       "      <td>A</td>\n",
       "      <td>A</td>\n",
       "      <td>B</td>\n",
       "      <td>A</td>\n",
       "      <td>B</td>\n",
       "      <td>E</td>\n",
       "      <td>A</td>\n",
       "      <td>B</td>\n",
       "      <td>B</td>\n",
       "    </tr>\n",
       "  </tbody>\n",
       "</table>\n",
       "<p>5 rows × 76 columns</p>\n",
       "</div>"
      ],
      "text/plain": [
       "   NU_INSCRICAO  NU_ANO  TP_FAIXA_ETARIA TP_SEXO  TP_ESTADO_CIVIL  \\\n",
       "0  210053865474    2021                5       F                1   \n",
       "1  210052384164    2021               12       M                1   \n",
       "2  210052589243    2021               13       F                3   \n",
       "3  210052128335    2021                3       M                1   \n",
       "4  210051353021    2021                2       F                1   \n",
       "\n",
       "   TP_COR_RACA  TP_NACIONALIDADE  TP_ST_CONCLUSAO  TP_ANO_CONCLUIU  TP_ESCOLA  \\\n",
       "0            1                 1                1                3          1   \n",
       "1            1                 1                1               11          1   \n",
       "2            1                 1                1               15          1   \n",
       "3            3                 1                2                0          2   \n",
       "4            3                 1                2                0          2   \n",
       "\n",
       "   ...  Q016  Q017  Q018 Q019  Q020 Q021  Q022  Q023  Q024  Q025  \n",
       "0  ...     A     A     A    B     A    A     B     A     B     B  \n",
       "1  ...     A     A     A    B     A    A     C     A     A     A  \n",
       "2  ...     B     A     A    B     A    A     C     B     B     B  \n",
       "3  ...     A     A     A    B     A    A     B     A     B     B  \n",
       "4  ...     B     A     A    B     A    B     E     A     B     B  \n",
       "\n",
       "[5 rows x 76 columns]"
      ]
     },
     "execution_count": 3,
     "metadata": {},
     "output_type": "execute_result"
    }
   ],
   "source": [
    "#Visão geral do dataframe\n",
    "df.head()"
   ]
  },
  {
   "cell_type": "markdown",
   "id": "66574dd1",
   "metadata": {},
   "source": [
    "__Observamos as 5 primeiras linhas do dataframe, que possui 76 colunas (variáveis), sendo a 1ª \"NU_INSCRICAO\" e a última \"Q025\".__"
   ]
  },
  {
   "cell_type": "code",
   "execution_count": 7,
   "id": "9ce2bb3d",
   "metadata": {},
   "outputs": [
    {
     "data": {
      "text/plain": [
       "Index(['NU_INSCRICAO', 'NU_ANO', 'TP_FAIXA_ETARIA', 'TP_SEXO',\n",
       "       'TP_ESTADO_CIVIL', 'TP_COR_RACA', 'TP_NACIONALIDADE', 'TP_ST_CONCLUSAO',\n",
       "       'TP_ANO_CONCLUIU', 'TP_ESCOLA', 'TP_ENSINO', 'IN_TREINEIRO',\n",
       "       'CO_MUNICIPIO_ESC', 'NO_MUNICIPIO_ESC', 'CO_UF_ESC', 'SG_UF_ESC',\n",
       "       'TP_DEPENDENCIA_ADM_ESC', 'TP_LOCALIZACAO_ESC', 'TP_SIT_FUNC_ESC',\n",
       "       'CO_MUNICIPIO_PROVA', 'NO_MUNICIPIO_PROVA', 'CO_UF_PROVA',\n",
       "       'SG_UF_PROVA', 'TP_PRESENCA_CN', 'TP_PRESENCA_CH', 'TP_PRESENCA_LC',\n",
       "       'TP_PRESENCA_MT', 'CO_PROVA_CN', 'CO_PROVA_CH', 'CO_PROVA_LC',\n",
       "       'CO_PROVA_MT', 'NU_NOTA_CN', 'NU_NOTA_CH', 'NU_NOTA_LC', 'NU_NOTA_MT',\n",
       "       'TX_RESPOSTAS_CN', 'TX_RESPOSTAS_CH', 'TX_RESPOSTAS_LC',\n",
       "       'TX_RESPOSTAS_MT', 'TP_LINGUA', 'TX_GABARITO_CN', 'TX_GABARITO_CH',\n",
       "       'TX_GABARITO_LC', 'TX_GABARITO_MT', 'TP_STATUS_REDACAO',\n",
       "       'NU_NOTA_COMP1', 'NU_NOTA_COMP2', 'NU_NOTA_COMP3', 'NU_NOTA_COMP4',\n",
       "       'NU_NOTA_COMP5', 'NU_NOTA_REDACAO', 'Q001', 'Q002', 'Q003', 'Q004',\n",
       "       'Q005', 'Q006', 'Q007', 'Q008', 'Q009', 'Q010', 'Q011', 'Q012', 'Q013',\n",
       "       'Q014', 'Q015', 'Q016', 'Q017', 'Q018', 'Q019', 'Q020', 'Q021', 'Q022',\n",
       "       'Q023', 'Q024', 'Q025'],\n",
       "      dtype='object')"
      ]
     },
     "execution_count": 7,
     "metadata": {},
     "output_type": "execute_result"
    }
   ],
   "source": [
    "#Verificando todas as variáveis\n",
    "df.columns"
   ]
  },
  {
   "cell_type": "markdown",
   "id": "2d35ca1a",
   "metadata": {},
   "source": [
    "__Na pasta \"Dicionario\", temos o arquivo \"Dicionário_Microdados_Enem_2021.xlsx\" que detalha a descrição de cada variável, bem como seus valores, tamanho e tipo.__"
   ]
  },
  {
   "cell_type": "markdown",
   "id": "ed5e74fe",
   "metadata": {},
   "source": [
    "Exemplos de algumas variáveis e suas descrições:   \n",
    "Q001 - Até que série seu pai, ou o homem responsável por você, estudou?    \n",
    "Q002 - Até que série sua mãe, ou a mulher responsável por você, estudou?   \n",
    "Q025 - Na sua residência tem acesso à Internet?"
   ]
  },
  {
   "cell_type": "code",
   "execution_count": 4,
   "id": "44c94868",
   "metadata": {},
   "outputs": [
    {
     "data": {
      "text/plain": [
       "3389832"
      ]
     },
     "execution_count": 4,
     "metadata": {},
     "output_type": "execute_result"
    }
   ],
   "source": [
    "#Quantidade de registros\n",
    "df.shape[0].compute()"
   ]
  },
  {
   "cell_type": "markdown",
   "id": "97039a00",
   "metadata": {},
   "source": [
    "__A base de dados possui mais de 3,3 milhões de registros.__"
   ]
  },
  {
   "cell_type": "markdown",
   "id": "4f2c7903",
   "metadata": {},
   "source": [
    "#  <a name=\"secao_3\"> 3. Limpando os dados </a>\n",
    "[voltar ao índice](#indice)"
   ]
  },
  {
   "cell_type": "markdown",
   "id": "ad397ade",
   "metadata": {},
   "source": [
    "#  <a name=\"secao_4\"> 4. Análise Exploratória dos Dados </a>\n",
    "[voltar ao índice](#indice)"
   ]
  },
  {
   "cell_type": "markdown",
   "id": "34ed157a",
   "metadata": {},
   "source": [
    "### Quantas pessoas com 25 anos ou mais fizeram a prova?"
   ]
  },
  {
   "cell_type": "code",
   "execution_count": 20,
   "id": "1b6f2840",
   "metadata": {},
   "outputs": [
    {
     "data": {
      "text/plain": [
       "False    2806505\n",
       "True      583327\n",
       "Name: TP_FAIXA_ETARIA, dtype: int64"
      ]
     },
     "execution_count": 20,
     "metadata": {},
     "output_type": "execute_result"
    }
   ],
   "source": [
    "maiores_25_anos = (df['TP_FAIXA_ETARIA'] >= 11) & (df['TP_FAIXA_ETARIA'] <= 20)\n",
    "maiores_25_anos.value_counts().compute()"
   ]
  },
  {
   "cell_type": "markdown",
   "id": "d30b9328",
   "metadata": {},
   "source": [
    "__Mais de meio milhão de pessoas__"
   ]
  },
  {
   "cell_type": "markdown",
   "id": "9b070c8e",
   "metadata": {},
   "source": [
    "### Qual o sexo destas pessoas?"
   ]
  },
  {
   "cell_type": "code",
   "execution_count": 22,
   "id": "fef5665c",
   "metadata": {},
   "outputs": [
    {
     "data": {
      "text/plain": [
       "F    346454\n",
       "M    236873\n",
       "Name: TP_SEXO, dtype: int64"
      ]
     },
     "execution_count": 22,
     "metadata": {},
     "output_type": "execute_result"
    }
   ],
   "source": [
    "df[maiores_25_anos]['TP_SEXO'].value_counts().compute()"
   ]
  },
  {
   "cell_type": "markdown",
   "id": "d57cba07",
   "metadata": {},
   "source": [
    "__Cerca de 346 mil são mulheres e 237 mil são homens__"
   ]
  },
  {
   "cell_type": "markdown",
   "id": "a823b7f6",
   "metadata": {},
   "source": [
    "### Quais as raças destas pessoas?"
   ]
  },
  {
   "cell_type": "code",
   "execution_count": 24,
   "id": "e08bd6f6",
   "metadata": {},
   "outputs": [],
   "source": [
    "df['TP_COR_RACA'] = df['TP_COR_RACA'].map({0: 'Não declarado',\n",
    "                                           1: 'Branca',\n",
    "                                           2: 'Preta',\n",
    "                                           3: 'Parda',\n",
    "                                           4: 'Amarela',\n",
    "                                           5: 'Indígena',\n",
    "                                           6: 'Não dispões da informação'})"
   ]
  },
  {
   "cell_type": "code",
   "execution_count": 25,
   "id": "1935e508",
   "metadata": {},
   "outputs": [
    {
     "data": {
      "text/plain": [
       "Parda                        282556\n",
       "Branca                       177405\n",
       "Preta                         95645\n",
       "Não declarado                 12865\n",
       "Amarela                       10790\n",
       "Indígena                       4061\n",
       "Não dispões da informação         5\n",
       "Name: TP_COR_RACA, dtype: int64"
      ]
     },
     "execution_count": 25,
     "metadata": {},
     "output_type": "execute_result"
    }
   ],
   "source": [
    "df[maiores_25_anos]['TP_COR_RACA'].value_counts().compute()"
   ]
  },
  {
   "cell_type": "markdown",
   "id": "aaafbca0",
   "metadata": {},
   "source": [
    "#  <a name=\"secao_5\"> 5. Formulação de Hipoteses e Testes </a>\n",
    "[voltar ao índice](#indice)"
   ]
  },
  {
   "cell_type": "markdown",
   "id": "d0e019c6",
   "metadata": {},
   "source": []
  },
  {
   "cell_type": "markdown",
   "id": "3ba5ea45",
   "metadata": {},
   "source": [
    "#  <a name=\"secao_6\"> 6. Construindo e Testando Modelos </a>\n",
    "[voltar ao índice](#indice)"
   ]
  },
  {
   "cell_type": "code",
   "execution_count": null,
   "id": "2320b461",
   "metadata": {},
   "outputs": [],
   "source": []
  },
  {
   "cell_type": "markdown",
   "id": "8fb4e4f2",
   "metadata": {},
   "source": [
    "#  <a name=\"conclusao\"> Conclusões </a>\n",
    "[voltar ao índice](#indice)"
   ]
  },
  {
   "cell_type": "code",
   "execution_count": null,
   "id": "daf2ea3d",
   "metadata": {},
   "outputs": [],
   "source": []
  }
 ],
 "metadata": {
  "kernelspec": {
   "display_name": "Python 3",
   "language": "python",
   "name": "python3"
  },
  "language_info": {
   "codemirror_mode": {
    "name": "ipython",
    "version": 3
   },
   "file_extension": ".py",
   "mimetype": "text/x-python",
   "name": "python",
   "nbconvert_exporter": "python",
   "pygments_lexer": "ipython3",
   "version": "3.8.10"
  }
 },
 "nbformat": 4,
 "nbformat_minor": 5
}
