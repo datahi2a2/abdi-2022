{
 "cells": [
  {
   "cell_type": "markdown",
   "metadata": {},
   "source": [
    "[<center><img src=\"images/Logo_I2A2.webp\"></center>](https://www.i2a2.ca/)         \n",
    "Rev 4"
   ]
  },
  {
   "cell_type": "markdown",
   "metadata": {},
   "source": [
    "# Módulo 2"
   ]
  },
  {
   "cell_type": "markdown",
   "metadata": {
    "slideshow": {
     "slide_type": "slide"
    }
   },
   "source": [
    "# Aula 1 - parte 2: Jupyter Notebook\n",
    "\n",
    "\n",
    "**Objetivo**: Apresentar o ambiente Jupyter Notebook."
   ]
  },
  {
   "cell_type": "markdown",
   "metadata": {},
   "source": [
    "Este material o auxiliará nas sessões de autoestudo, contudo, fique à vontade para consultar outras fontes de informações, mas nunca deixe de citá-las."
   ]
  },
  {
   "cell_type": "markdown",
   "metadata": {
    "slideshow": {
     "slide_type": "slide"
    }
   },
   "source": [
    "O **Projeto Jupyter** é uma organização sem fins lucrativos criada para \"desenvolver software de código aberto, padrões abertos e serviços para **computação interativa** em dezenas de linguagens de programação\". Originado do IPython em 2014, o Projeto Jupyter **suporta ambientes de execução em dezenas de linguagens de programação**. O nome do projeto é uma referência às três principais linguagens de programação suportadas por Jupyter, **Julia, Python e R**, e também uma **homenagem aos cadernos de anotações de Galileu** que registram a descoberta das luas de Júpiter. ([Wikipédia](https://pt.wikipedia.org/wiki/Projeto_Jupyter))"
   ]
  },
  {
   "cell_type": "markdown",
   "metadata": {},
   "source": [
    "# Instalando o Jupyter Notebook\n",
    "Consulte o documento [Introdução ao Jupyter Notebook](https://letscode.com.br/blog/introducao-ao-jupyter-notebook) e instale o **Jupyter Notebook** no seu computador. Atente que há duas opções de instalação - utilizando o PIP ou instalando a [distribuição Anaconda](https://www.anaconda.com/products/individual) - caso você ainda não tenha o [python](https://www.python.org/) instalado em sua máquina, opte em instalar utilizando o Anaconda."
   ]
  },
  {
   "cell_type": "markdown",
   "metadata": {},
   "source": [
    "# Utilizando o Jupyter Notebook\n",
    "\n",
    "* Agora que você já instalou o Jupyter na sua máquina, assista o vídeo abaixo e aprenda como utilizar as funcionalidades e recursos da ferramenta.\n",
    "\n",
    "[![jupyternotebook](https://img.youtube.com/vi/szP9IRbwO9o/hqdefault.jpg)](https://youtu.be/szP9IRbwO9o \"jupyternotebook\") \n",
    "\n"
   ]
  },
  {
   "cell_type": "markdown",
   "metadata": {},
   "source": [
    "#### Obs.: Provavelmente a aba __nbextensions__, apresenta no vídeo, não deve estar aparecendo no seu Jupyter Notebook :(   \n",
    "Veja neste [link](https://jupyter-contrib-nbextensions.readthedocs.io/en/latest/install.html) os detalhes para instalação desta entensão; basicamente envolve os comandos abaixo:"
   ]
  },
  {
   "cell_type": "code",
   "execution_count": null,
   "metadata": {},
   "outputs": [],
   "source": [
    "!pip install jupyter_contrib_nbextensions"
   ]
  },
  {
   "cell_type": "code",
   "execution_count": null,
   "metadata": {},
   "outputs": [],
   "source": [
    "!jupyter contrib nbextension install --user"
   ]
  },
  {
   "cell_type": "markdown",
   "metadata": {},
   "source": [
    "Depois de instalar, atualize seu navegador <F5> e verifique se a aba  __nbextensions__ aparece."
   ]
  },
  {
   "cell_type": "markdown",
   "metadata": {
    "slideshow": {
     "slide_type": "fragment"
    }
   },
   "source": [
    "# Documentação\n",
    "\n",
    "Documentação Jupyter Notebook: https://jupyter-notebook.readthedocs.io/en/stable/\n",
    "\n",
    "Lista de Kernels: https://github.com/jupyter/jupyter/wiki/Jupyter-kernels"
   ]
  },
  {
   "cell_type": "markdown",
   "metadata": {
    "slideshow": {
     "slide_type": "slide"
    }
   },
   "source": [
    "# Arquivos\n",
    "\n",
    "Notebooks são documentos `JSON` com extensão `.ipynb` (**iPy**thon **N**ote**b**ook) \n",
    "\n",
    "Trabalha com células:\n",
    "* Código\n",
    "* [Markdown](https://www.markdownguide.org/getting-started/)"
   ]
  },
  {
   "cell_type": "markdown",
   "metadata": {
    "slideshow": {
     "slide_type": "subslide"
    }
   },
   "source": [
    "### Célula de Código"
   ]
  },
  {
   "cell_type": "code",
   "execution_count": null,
   "metadata": {
    "slideshow": {
     "slide_type": "slide"
    }
   },
   "outputs": [],
   "source": [
    "# Isto é uma célula de código\n",
    "# Click no botão **Run** para executá-la:\n",
    "print('Quantos cocos carrega uma andorinha?')"
   ]
  },
  {
   "cell_type": "markdown",
   "metadata": {
    "slideshow": {
     "slide_type": "subslide"
    }
   },
   "source": [
    "# Célula Markdown\n",
    "\n",
    "Veja documentação em: https://www.markdownguide.org/cheat-sheet/\n",
    "\n",
    "* LaTeX com entre dólar ( \\\\$ ): $P(A|B) = \\frac{P(B|A) P(A)}{P(B)}$\n",
    "* Código entre (\\```)\n",
    "```python\n",
    "print('Qual a velocidade de voo de uma andorinha sem carga?')\n",
    "```"
   ]
  },
  {
   "cell_type": "markdown",
   "metadata": {
    "slideshow": {
     "slide_type": "slide"
    }
   },
   "source": [
    "# Comandos de Células\n",
    "\n",
    "* Para rodar a célula aperte `Shift + Enter`\n",
    "* Modo Comando `Esc`\n",
    "* Modo Edição `Enter`\n",
    "* Para inserir nova célula aperte `a` (para **antes** da célula selecionada) ou `b` (para **depois** da célula selecionada)\n",
    "* Para deletar célula aperte duas vezes `d` (delete)\n",
    "* Copiar célula(s) selecionada(s) aperte `c` (copy)\n",
    "* Colar célula(s) copiada(s) aperte `v` (paste)\n",
    "* Mudar tipo:\n",
    "    * Code `y`\n",
    "    * Markdown `m`"
   ]
  },
  {
   "cell_type": "markdown",
   "metadata": {},
   "source": [
    "# Rodando este notebook na nuvem\n",
    "\n",
    "Para desenvolver e executar seus notebooks na nuvem, você pode utilizar:\n",
    "* [GoogleColab](https://research.google.com/colaboratory/intl/pt-BR/faq.html)\n",
    "* [myBinder](https://mybinder.org/) \n",
    "* [SageMaker Studio Lab](https://studiolab.sagemaker.aws/)"
   ]
  },
  {
   "cell_type": "markdown",
   "metadata": {},
   "source": [
    "Utilize este botão para executar este notebook no myBinder\n",
    "[![Binder](https://mybinder.org/badge_logo.svg)](https://mybinder.org/v2/gh/vsvasconcelos/i2a2/main?filepath=m2_Jupyter.ipynb)"
   ]
  },
  {
   "cell_type": "markdown",
   "metadata": {},
   "source": [
    "Utilize este botão para executar este notebook no Colab\n",
    "[![Open In Colab](https://colab.research.google.com/assets/colab-badge.svg)](https://colab.research.google.com/github/vsvasconcelos/i2a2/blob/main/m2_Jupyter.ipynb)"
   ]
  },
  {
   "cell_type": "markdown",
   "metadata": {
    "slideshow": {
     "slide_type": "slide"
    }
   },
   "source": [
    "# Comandos `shell` \n",
    "\n",
    "Use o *bang* `!`"
   ]
  },
  {
   "cell_type": "code",
   "execution_count": null,
   "metadata": {
    "slideshow": {
     "slide_type": "subslide"
    }
   },
   "outputs": [],
   "source": [
    "!ls"
   ]
  },
  {
   "cell_type": "code",
   "execution_count": null,
   "metadata": {
    "slideshow": {
     "slide_type": "subslide"
    }
   },
   "outputs": [],
   "source": [
    "#Qual o diretório de trabalho?\n",
    "#Para máquinas com"
   ]
  },
  {
   "cell_type": "code",
   "execution_count": null,
   "metadata": {},
   "outputs": [],
   "source": [
    "#Qual o diretório de trabalho?\n",
    "#Para máquinas com Linux/Mac\n",
    "!pwd"
   ]
  },
  {
   "cell_type": "markdown",
   "metadata": {
    "slideshow": {
     "slide_type": "slide"
    }
   },
   "source": [
    "# Jupyter Magic\n",
    "\n",
    "Tem [diversos](https://ipython.readthedocs.io/en/stable/interactive/magics.html), mas o que eu mais uso são:\n",
    "\n",
    "* `%timeit`: Cronometra o tempo de execução de uma **expressão** `Python`\n",
    "* `%%timeit`: Cronometra o tempo de execução de uma **célula**\n",
    "\n",
    "#### Execute as células a baixo e verifique o tempo gasto para executá-las:"
   ]
  },
  {
   "cell_type": "code",
   "execution_count": 2,
   "metadata": {
    "slideshow": {
     "slide_type": "subslide"
    }
   },
   "outputs": [
    {
     "name": "stdout",
     "output_type": "stream",
     "text": [
      "59.4 ms ± 82.3 µs per loop (mean ± std. dev. of 7 runs, 10 loops each)\n"
     ]
    }
   ],
   "source": [
    "%timeit 3**999999"
   ]
  },
  {
   "cell_type": "code",
   "execution_count": 1,
   "metadata": {
    "slideshow": {
     "slide_type": "fragment"
    }
   },
   "outputs": [
    {
     "name": "stdout",
     "output_type": "stream",
     "text": [
      "59.7 ms ± 253 µs per loop (mean ± std. dev. of 7 runs, 10 loops each)\n"
     ]
    }
   ],
   "source": [
    "%%timeit\n",
    "y = 5\n",
    "x = 3**999999"
   ]
  },
  {
   "cell_type": "markdown",
   "metadata": {},
   "source": [
    "# Execute o Jupyter no seu computador\n",
    "Baixe o arquivo desta aula (m2_Jupyter_rev1.ipynb) e teste executá-lo no seu computador.   "
   ]
  },
  {
   "cell_type": "markdown",
   "metadata": {},
   "source": [
    "# Quer saber mais?\n",
    "* Execute os [notebooks](https://github.com/storopoli/ciencia-de-dados) dos Professores Storopoli e Souza\n",
    "\n",
    "* Assista ...\n",
    "\n",
    "[![jupyternotebook](https://img.youtube.com/vi/ZC8bfSZLl80/hqdefault.jpg)](https://youtu.be/ZC8bfSZLl80 \"jupyternotebook\") \n",
    "\n",
    "* Veja o [Tutorial Jupyter Notebook](https://www.datacamp.com/community/tutorials/tutorial-jupyter-notebook#gs.N0CbFZI)      \n",
    "\n",
    "[![jupyternotebook](https://img.youtube.com/vi/Z-zwFha2Oco/hqdefault.jpg)](https://youtu.be/Z-zwFha2Oco \"Prepare seus dados brutos para análise usando Jupyter Notebooks\") \n",
    "\n",
    "\n",
    "# O Futuro do Trabalho: 10 habilidades que vão estar em alta até 2025\n",
    "\n",
    "Segundo o relatório [Future of Jobs: The top 10 skills to be developed by 2025](http://www3.weforum.org/docs/WEF_Future_of_Jobs_2020.pdf), do Fórum Econômico Mundial, **Pensamento crítico** é a 4ª principal habilidade que estará em alta até 2025. \n",
    "\n",
    "# Pensamento crítico\n",
    "\n",
    "Pesquise no artigo [COMPETÊNCIAS RELEVANTES PARA O PROFISSIONAL DO FUTURO - COMPETÊNCIAS LISTADAS PELO RELATÓRIO “THE FUTURE OF JOB” DO FÓRUM ECONÔMICO MUNDIAL E A PREVISÃO DE FUTURO DE YUVAL HARARI](https://semanaacademica.com.br/artigo/competencias-relevantes-para-o-profissional-do-futuro-competencias-listadas-pelo-relatorio-do) e no e-book [O Guia Definitivo das Competências](https://conteudo.qulture.rocks/o-guia-definitivo-das-competencias?tipo=ebooks) sobre o **Pensamento crítico**.\n",
    "\n",
    "   - Assista aos vídeos ...\n",
    "\n",
    "[![Pensamento Critico](https://img.youtube.com/vi/azCTNyzCZBM/hqdefault.jpg)](https://youtu.be/azCTNyzCZBM \"Pensamento Crítico: Lógica e argumentação, com Prof. Walter Carnielli\")   \n",
    "\n",
    "   - Indução, Logica e Probabilidade - Uma aula de Walter Carnielli\n",
    "\n",
    "[![Pensamento Critico](https://img.youtube.com/vi/-XZD3WKDmyo/hqdefault.jpg)](https://youtu.be/-XZD3WKDmyo \"Indução, Logica e Probabilidade - Uma aula de Walter Carnielli\") \n",
    "\n",
    "# Pensamento Crítico x Pensamento Sistêmico\n",
    "\n",
    "* Explore o portal [Pensamento Sistêmico](https://colaborae.com.br/blog/2021/12/16/pensamento-analitico-2/)   \n",
    "\n",
    "* Assistas aos vídeos ...  \n",
    "\n",
    "    - Uma história sobre sistemas (Pensamento sistêmico)\n",
    "\n",
    "[![Pensamento sistemico](https://img.youtube.com/vi/rWbsE3qQu1I/hqdefault.jpg)](https://youtu.be/rWbsE3qQu1I \"Uma história sobre sistemas (Pensamento sistêmico)\")    \n",
    "\n",
    "   - Pensamento sistêmico\n",
    "\n",
    "[![Pensamento sistemico](https://img.youtube.com/vi/YDOjWT2Ix-g/hqdefault.jpg)](https://youtu.be/YDOjWT2Ix-g \"Pensamento sistemico ENAP\")    \n",
    "\n",
    "   - O processo de design na Engenharia\n",
    "\n",
    "[![processo de design](https://img.youtube.com/vi/yZc2ympulEA/hqdefault.jpg)](https://youtu.be/yZc2ympulEA \"processo de design\") \n",
    "\n",
    "* Leia o artigo [Um Mapa Conceitual sobre Pensamento Sistêmico:\n",
    "seus Conceitos e Autores](http://www.anpad.org.br/admin/pdf/Simposio394.pdf)\n",
    "\n",
    "* Explore o portal [o que você queria saber sobre pensamento sistêmico (e nem sabia)](https://www.enap.gov.br/pt/acontece/noticias/especial-o-que-voce-queria-saber-sobre-pensamento-sistemico-e-nem-sabia)   \n",
    "\n",
    "\n",
    "# Gosta de livros  \n",
    "\n",
    "[Jupyter Guide to Linear Algebra](https://bvanderlei.github.io/jupyter-guide-to-linear-algebra/intro.html)\n",
    "\n",
    "[Teaching and Learning with Jupyter](https://jupyter4edu.github.io/jupyter-edu-book/)\n",
    "\n",
    "[Python Programming for Data Science](https://www.tomasbeuzen.com/python-programming-for-data-science/README.html)\n",
    "\n",
    "[Books with Jupyter](https://executablebooks.org/en/latest/gallery.html)\n",
    "\n",
    "[Desvendando Sistemas (Pensamento Sistêmico) João Alberto Amaral](https://edisciplinas.usp.br/pluginfile.php/5661115/mod_resource/content/1/DesvendandoSistemasPDFweb1JoaoArantes.pdf)   \n",
    "\n",
    "[Design ágil para inovação social e desenvolvimento - Bruno e Tomaz](https://repositorio.enap.gov.br/handle/1/5647) \n",
    "\n",
    "\n",
    "# Referências:    \n",
    "   [1] Storopoli & Souza (2020). Ciência de Dados com Python: pandas, matplotlib, Scikit-Learn, TensorFlow e PyTorch. Retrieved from https://storopoli.io/ciencia-de-dados    \n",
    "   \n",
    "   [2] Falha [libxml2](https://stackoverflow.com/questions/34232887/cant-install-python-lxml-and-libxml2-on-windows) no Windows"
   ]
  },
  {
   "cell_type": "markdown",
   "metadata": {},
   "source": [
    "Qualquer dúvida, poste no fórum da disciplina.\n",
    "### Te vejo na mentoria!"
   ]
  }
 ],
 "metadata": {
  "kernelspec": {
   "display_name": "Python 3",
   "language": "python",
   "name": "python3"
  },
  "language_info": {
   "codemirror_mode": {
    "name": "ipython",
    "version": 3
   },
   "file_extension": ".py",
   "mimetype": "text/x-python",
   "name": "python",
   "nbconvert_exporter": "python",
   "pygments_lexer": "ipython3",
   "version": "3.8.10"
  },
  "rise": {
   "autolaunch": true,
   "enable_chalkboard": true,
   "progress": true,
   "scroll": true,
   "slideNumber": true
  }
 },
 "nbformat": 4,
 "nbformat_minor": 4
}
