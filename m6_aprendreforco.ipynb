{
 "cells": [
  {
   "cell_type": "markdown",
   "metadata": {},
   "source": [
    "[<center><img src=\"images/Logo_I2A2.webp\"></center>](https://www.i2a2.ca/)         \n",
    "Rev 7"
   ]
  },
  {
   "cell_type": "markdown",
   "metadata": {},
   "source": [
    "# Módulo 6"
   ]
  },
  {
   "cell_type": "markdown",
   "metadata": {
    "slideshow": {
     "slide_type": "slide"
    }
   },
   "source": [
    "# Aula 1 - parte 2: Reinforcement Learning (Aprendizado por Reforço)\n",
    "\n",
    "**Objetivo**: Apresentar os conceitos de aprendizado por reforço"
   ]
  },
  {
   "cell_type": "markdown",
   "metadata": {},
   "source": [
    "Este material o auxiliará nas sessões de autoestudo, contudo, fique à vontade para consultar outras fontes de informações, mas nunca deixe de citá-las."
   ]
  },
  {
   "cell_type": "markdown",
   "metadata": {},
   "source": [
    "\n",
    "# Tipos básicos de Aprendizagem de Máquina\n",
    "\n",
    "Já sabemos como as máquinas aprendem, certo?          \n",
    "Já estudamos o aprendizado supervisionado e não supervisionado, agora avançaremos no Aprendizado por Reforço.\n",
    "<img src=\"images/ML_modelos.png\" />\n",
    "\n",
    "\n",
    "# O que é Aprendizagem por Reforço\n",
    "\n",
    "É uma **formalização matemática** para o processo de **tomada de decisão sequencial** baseado no **aprendizado por experiência**. Aprender por **tentativa e erro**.   \n",
    "\n",
    "[<center><img src=\"images/tipos_tecnicasML.png\"></center>](https://pt.slideshare.net/netscribes123/reinforcement-learning-ai-track)   \n",
    "\n",
    "[![aprendreforço](https://img.youtube.com/vi/5u8yNEN5arQ/hqdefault.jpg)](https://youtu.be/5u8yNEN5arQ \"aprendreforço\") \n",
    "\n",
    "* Leia o artigo [Explicando Deep Reinforcement Learning com Super Mario ao invés de matemática](https://paulovasconcellos.com.br/explicando-deep-reinforcement-learning-com-super-mario-ao-inv%C3%A9s-de-matem%C3%A1tica-4c77392cc733)  \n",
    "\n",
    "* Observe a comparação dos parâmetros dos 3 tipos de aprendizagem de máquina:  \n",
    "\n",
    "[<center><img src=\"images/Comp_ML_Tecnicas.png\"></center>](https://pt.slideshare.net/netscribes123/reinforcement-learning-ai-track)   \n",
    "\n"
   ]
  },
  {
   "cell_type": "markdown",
   "metadata": {},
   "source": [
    " * Assista aos vídeos abaixo ...\n",
    "   \n",
    "[![aprendreforço](https://img.youtube.com/vi/Ycggd_Bg6nY/hqdefault.jpg)](https://youtu.be/Ycggd_Bg6nY \"aprendreforço\")  \n",
    "   \n",
    "[![aprendreforço](https://img.youtube.com/vi/bp6SyogueYg/hqdefault.jpg)](https://youtu.be/bp6SyogueYg?t=342 \"aprendreforço\")  \n",
    "\n",
    "* Leia os capítulos do livro [Deep Learning Book](https://www.deeplearningbook.com.br/): \n",
    "\n",
    "     * [Capítulo 62 \"O Que é Aprendizagem Por Reforço?\"](https://www.deeplearningbook.com.br/o-que-e-aprendizagem-por-reforco/);\n",
    "     * [Capítulo 63 \"Aplicações da Aprendizagem Por Reforço no Mundo Real\"](https://www.deeplearningbook.com.br/aplicacoes-da-aprendizagem-por-reforco-no-mundo-real/);\n",
    "     * [Capítulo 64 \"Componentes do Aprendizado Por Reforço\"](https://www.deeplearningbook.com.br/componentes-do-aprendizado-por-reforco-reinforcement-learning/);\n",
    "     * [Capítulo 65 \"Distribuições de Probabilidade, Redes Neurais e Reinforcement Learning\"](https://www.deeplearningbook.com.br/distribuicoes-de-probabilidade-redes-neurais-e-reinforcement-learning/).     \n",
    "     \n",
    "* Leia o artigo [Q-learning for beginners - Train an AI to solve the Frozen Lake environment](https://towardsdatascience.com/q-learning-for-beginners-2837b777741)  "
   ]
  },
  {
   "cell_type": "markdown",
   "metadata": {},
   "source": [
    "# Quer saber mais\n",
    "\n",
    "* Veja o artigo [Reinforcement Learning: Defining Next-Generation AI Aplications](https://pt.slideshare.net/netscribes123/reinforcement-learning-ai-track) da Netscribes\n",
    "\n",
    "[![aprendreforço](https://img.youtube.com/vi/eAhHdkahx6w/hqdefault.jpg)](https://youtu.be/eAhHdkahx6w \"Supletivo DH - Reinforcement Learning\")\n",
    "\n",
    "* Assista ao documentario **AlphaGo**\n",
    "[![AlphaGo](https://img.youtube.com/vi/WXuK6gekU1Y/hqdefault.jpg)](https://youtu.be/WXuK6gekU1Y \"AlphaGo\")\n",
    "\n",
    "* Faça o curso gratis [Introduction to Reinforcement Learning](https://www.udacity.com/course/reinforcement-learning--ud600) da Udacity. É possível assistir também no youtube.     \n",
    "[![aprendreforço](https://img.youtube.com/vi/WO3kmx4CVgg/hqdefault.jpg)](https://www.youtube.com/watch?v=WO3kmx4CVgg&list=PL__ycckD1ec_yNMjDl-Lq4-1ZqHcXqgm7&index=1 \"aprendreforço\")\n",
    "\n",
    "* Assista a playlist do curso **Reinforcement Learning**    \n",
    "\n",
    "[![aprendreforço](https://img.youtube.com/vi/2pWv7GOvuf0/hqdefault.jpg)](hhttps://youtu.be/2pWv7GOvuf0 \"aprendreforço\")\n",
    "\n",
    "* Assista ao vídeo e explore o github\n",
    "[![aprendreforço](https://img.youtube.com/vi/FxcWqI-l29E/hqdefault.jpg)](hhttps://youtu.be/FxcWqI-l29E \"Grupo Turing\")\n",
    "\n",
    "   - [Github](https://github.com/turing-usp/Workshop-de-Aprendizado-por-Reforco)\n",
    "\n",
    "* Faça os cursos:\n",
    "\n",
    "    - [Fundamentals of Reinforcement Learning](https://www.coursera.org/learn/fundamentals-of-reinforcement-learning?specialization=reinforcement-learning)\n",
    "    - [Programa de cursos integrados Reforço de aprendizagem](https://www.coursera.org/specializations/reinforcement-learning)\n",
    "    \n",
    "* Explore os repositórios do github:\n",
    "\n",
    "    - [Policy Gradient is all you need!](https://github.com/MrSyee/pg-is-all-you-need);    \n",
    "    - [Rainbow is all you need!](https://github.com/Curt-Park/rainbow-is-all-you-need).  \n",
    "* Leia o artigo [Offline Reinforcement Learning: Tutorial, Review, and Perspectives on Open Problems](https://arxiv.org/abs/2005.01643)   \n",
    "\n",
    "* Leia o artigo [Grandes perguntas e algumas respostas do AI100 de Stanford sobre IA](https://awaridados.substack.com/p/grandes-perguntas-respostas-ai100-stanford-ia?s=r), se quiser, veja o [relatório original](https://ai100.stanford.edu/sites/g/files/sbiybj18871/files/media/file/AI100Report_MT_10.pdf)    \n",
    "\n",
    "* Leia o artigo [Hackeando o Xadrez com Decision Making Deep Reinforcement Learning](https://medium.com/data-hackers/hackeando-o-xadrez-com-decision-making-deep-reinforcement-learning-438167468410)   \n",
    "\n",
    "* Leia o artigo [Aprendizado Por Reforço: aplicações na área de ciências biológicas](https://medium.com/turing-talks/aprendizado-por-refor%C3%A7o-aplica%C3%A7%C3%B5es-na-%C3%A1rea-de-ci%C3%AAncias-biol%C3%B3gicas-e1131373fc9a)"
   ]
  },
  {
   "cell_type": "markdown",
   "metadata": {},
   "source": [
    "# Gosta de livros\n",
    "\n",
    "[Reinforcement Learning an introdution - Sutton and Barto](https://www.andrew.cmu.edu/course/10-703/textbook/BartoSutton.pdf)\n",
    "\n",
    "[Deep Learning Book - pt_br](https://www.deeplearningbook.com.br/)   \n",
    "\n",
    "[Grokking Deep Reinforcement Learning - Miguel Morales](https://livebook.manning.com/book/grokking-deep-reinforcement-learning/grokking-deep-reinforcement-learning/4)"
   ]
  },
  {
   "cell_type": "markdown",
   "metadata": {},
   "source": [
    "Qualquer dúvida, poste no fórum da disciplina.\n",
    "### Te vejo na mentoria!"
   ]
  }
 ],
 "metadata": {
  "kernelspec": {
   "display_name": "Python 3",
   "language": "python",
   "name": "python3"
  },
  "language_info": {
   "codemirror_mode": {
    "name": "ipython",
    "version": 3
   },
   "file_extension": ".py",
   "mimetype": "text/x-python",
   "name": "python",
   "nbconvert_exporter": "python",
   "pygments_lexer": "ipython3",
   "version": "3.8.10"
  },
  "rise": {
   "autolaunch": true,
   "enable_chalkboard": true,
   "progress": true,
   "scroll": true,
   "slideNumber": true
  }
 },
 "nbformat": 4,
 "nbformat_minor": 4
}
