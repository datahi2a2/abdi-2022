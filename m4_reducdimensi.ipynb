{
 "cells": [
  {
   "cell_type": "markdown",
   "metadata": {},
   "source": [
    "[<center><img src=\"images/Logo_I2A2.webp\"></center>](https://www.i2a2.ca/)         \n",
    "Rev 6"
   ]
  },
  {
   "cell_type": "markdown",
   "metadata": {},
   "source": [
    "# Módulo 4"
   ]
  },
  {
   "cell_type": "markdown",
   "metadata": {
    "slideshow": {
     "slide_type": "slide"
    }
   },
   "source": [
    "# Aula 3 - Redução da Dimensionalidade\n",
    "\n",
    "**Objetivo**: Apresentar os algoritmos de redução da dimensionalidade"
   ]
  },
  {
   "cell_type": "markdown",
   "metadata": {},
   "source": [
    "Este material o auxiliará nas sessões de autoestudo, contudo, fique à vontade para consultar outras fontes de informações, mas nunca deixe de citá-las."
   ]
  },
  {
   "cell_type": "markdown",
   "metadata": {},
   "source": [
    "# Escolhendo o algoritmo/modelo (estimador) correto\n",
    "\n",
    "Muitas vezes, a parte mais difícil de resolver um problema de aprendizado de máquina pode ser encontrar o estimador certo para o trabalho.     \n",
    "O fluxograma abaixo foi projetado para fornecer aos usuários um guia aproximado sobre como abordar problemas em relação a quais estimadores devem ser testados em seus dados.    \n",
    "Clique em qualquer estimador no gráfico abaixo para ver sua documentação.\n",
    "\n",
    "[<img src=\"images/ml_map.png\"/>](https://scikit-learn.org/stable/tutorial/machine_learning_map/index.html)"
   ]
  },
  {
   "cell_type": "markdown",
   "metadata": {},
   "source": [
    "# Estimadores de Redução da Dimensionalidade\n",
    "\n",
    "* Clique em cada um dos estimadores de regressão (caixas verdes) para a acessar suas documentações.\n",
    "    - Liste os estimadores existentes;\n",
    "    - Acesse exemplos;\n",
    "    - Atente para a formulação matemática dos modelos."
   ]
  },
  {
   "cell_type": "markdown",
   "metadata": {},
   "source": [
    "# Lembra da maldição da dimensionalidade?"
   ]
  },
  {
   "cell_type": "markdown",
   "metadata": {},
   "source": [
    "## PCA - Principal Component Analysis\n",
    "\n",
    "* Assista aos vídeos ... \n",
    "\n",
    "\n",
    "[![pca](https://img.youtube.com/vi/Bt0q6_gmrPs/hqdefault.jpg)](https://youtu.be/Bt0q6_gmrPs \"pca\") \n",
    "\n",
    "[![pca](https://img.youtube.com/vi/xI9-I-gcwaw/hqdefault.jpg)](https://youtu.be/xI9-I-gcwaw \"pca\") \n",
    "\n",
    "[![pca](https://img.youtube.com/vi/bW9iuGJ1CS4/hqdefault.jpg)](https://youtu.be/bW9iuGJ1CS4 \"pca\") "
   ]
  },
  {
   "cell_type": "markdown",
   "metadata": {},
   "source": [
    "# Exercício 1\n",
    "\n",
    "* Execute o notebook **Analise de Componentes Principais - PCA**\n",
    "\n",
    "    - Opte, quando houver opção, pelo Bind e/ou Colab;   \n",
    "    - Obs.: No Binder, para sair do modo apresentação (rise) do notebook, click no **x** do lado superior esquerdo!\n",
    "\n",
    "[![Binder](https://mybinder.org/badge_logo.svg)](https://mybinder.org/v2/gh/storopoli/ciencia-de-dados/main?filepath=notebooks%2FAula_16_Analise_de_Componentes_Principais.ipynb)\n",
    "<br>\n",
    "[![Open In Colab](https://colab.research.google.com/assets/colab-badge.svg)](https://colab.research.google.com/github/storopoli/ciencia-de-dados/blob/main/notebooks/Aula_16_Analise_de_Componentes_Principais.ipynb)"
   ]
  },
  {
   "cell_type": "markdown",
   "metadata": {},
   "source": [
    "# Exercício 2: Identificação de suspeitos de fraude utilizando Machine Learning\n",
    "\n",
    "* Vamos revisitar este [projeto](https://github.com/vsvasconcelos/ML/blob/master/README.md) mas agora com muito mais bagagem e conhecimento. Neste [github](https://github.com/vsvasconcelos/udacity_intro_machinelearning_project/tree/master/final_project) há mais detalhes de todo o código original."
   ]
  },
  {
   "cell_type": "markdown",
   "metadata": {},
   "source": [
    "# Exercício 3\n",
    "\n",
    "* Execute o notebook **PCA manual e com python**\n",
    "\n",
    "[![Binder](https://mybinder.org/badge_logo.svg)](https://mybinder.org/v2/gh/vsvasconcelos/i2a2/main?filepath=PCA_na_mao_e_no_Python.ipynb)\n",
    "<br>\n",
    "[![Open In Colab](https://colab.research.google.com/assets/colab-badge.svg)](https://colab.research.google.com/github/vsvasconcelos/i2a2/blob/main/PCA_na_mao_e_no_Python.ipynb)"
   ]
  },
  {
   "cell_type": "markdown",
   "metadata": {},
   "source": [
    "# AIoT - Artificial Intelligence of Things (Inteligência artificial das Coisas)\n",
    "\n",
    "Como embarcar a IA nas coisas?    \n",
    "Conheça o [TinyML](https://www.embarcados.com.br/tinyml-machine-learning-para-microcontroladores/)     \n",
    "\n",
    "\n",
    "[![AIoT](https://img.youtube.com/vi/FGU_P0C-9lo/hqdefault.jpg)](https://youtu.be/FGU_P0C-9lo \"AIoT\")"
   ]
  },
  {
   "cell_type": "markdown",
   "metadata": {},
   "source": [
    "# Quer saber mais\n",
    "\n",
    "\n",
    "Assista aos vídeos:\n",
    "\n",
    "   * Playlist do curso Aprendizagem de Máquina - Prof. Hansenclever de Franca Bassani\n",
    "   [Notas de aula](https://www.cin.ufpe.br/~hfb/am/index.html) \n",
    "[![PCA](https://img.youtube.com/vi/-jaY4zxDkd0/hqdefault.jpg)](https://www.youtube.com/watch?v=-jaY4zxDkd0&list=PL4-neXto5bGUpsE4FpO7T6BkLaSx_pyie \"PCA\")\n",
    " \n",
    " \n",
    "   * Redução de Dimensionalidade com PCA usando o Orange\n",
    "[![pcaorange](https://img.youtube.com/vi/WlnsAT-qWkQ/hqdefault.jpg)](https://youtu.be/WlnsAT-qWkQ \"pcaorange\")     \n",
    "\n",
    "\n",
    "   * Redução de dimensionalidade linear para extração de atributos, Prof. Alexandre LeAlexandre Levada\n",
    "[![pcaorange](https://img.youtube.com/vi/0qXvWzH2rm4/hqdefault.jpg)](https://youtu.be/0qXvWzH2rm4 \"pcaorange\")\n",
    "\n",
    "* [6 Predictive Models Every Beginner Data Scientist should Master](https://towardsdatascience.com/6-predictive-models-models-every-beginner-data-scientist-should-master-7a37ec8da76d)\n",
    "\n",
    "* [Comitê de Máquinas de Aprendizado (Ensemble Learning) - Voto Majoritário](https://youtu.be/41yF29X8QTA)\n",
    "\n",
    "* Explore a playlist do curso de PCA de  Victor Lavrenko\n",
    "[![pcaorange](https://img.youtube.com/vi/IbE0tbjy6JQ/hqdefault.jpg)](https://www.youtube.com/watch?v=IbE0tbjy6JQ&list=PLBv09BD7ez_5_yapAg86Od6JeeypkS4YM \"curse of dimensionality\")\n",
    "\n",
    "* Veja o vídeo abaixo e explore o canal [ StatQuest with Josh Starmer](https://www.youtube.com/c/joshstarmer/videos)\n",
    "[![pcaorange](https://img.youtube.com/vi/FgakZw6K1QQ/hqdefault.jpg)](https://youtu.be/FgakZw6K1QQ \"StatQuest: Principal Component Analysis (PCA), Step-by-Step\")   \n",
    "\n",
    "# O Futuro do Trabalho\n",
    "\n",
    "* Nas aulas passadas exploramos cada uma das 10 habilidades citadas no relatório [Future of Jobs: The top 10 skills to be developed by 2025](http://www3.weforum.org/docs/WEF_Future_of_Jobs_2020.pdf), bem como alguns artigos tratando das principais Soft Skills para a área de dados e ainda você deve ter realizado o check-up de algumas de suas soft skills na Conquer e o mapeamento do seu perfil comportamental na  [propositomaior](https://www.propositomaior.com.br/teste-disc-gratuito/).   \n",
    "\n",
    "* Vamos agora apresentar uma outra ferramenta para você testar sua personalidade. \n",
    "\n",
    "* Leia o artigo [Myers-Briggs: a real sobre o teste das 16 personalidades](https://super.abril.com.br/sociedade/myers-briggs-a-real-sobre-o-teste-das-16-personalidades/) e faça o seu teste de perfil no portal [6Personalities](https://www.16personalities.com/br)."
   ]
  },
  {
   "cell_type": "markdown",
   "metadata": {},
   "source": [
    "# Gosta de livros \n",
    "\n",
    "[Hands on Machine Learning with Scikit Learn and Tensorflow.](http://index-of.es/Varios-2/Hands%20on%20Machine%20Learning%20with%20Scikit%20Learn%20and%20Tensorflow.pdf) \n",
    "\n",
    "[Mastering Machine Learning with scikit-learn](http://www.smallake.kr/wp-content/uploads/2017/03/Mastering-Machine-Learning-with-scikit-learn.pdf)"
   ]
  },
  {
   "cell_type": "markdown",
   "metadata": {},
   "source": [
    "Qualquer dúvida, poste no fórum da disciplina.\n",
    "### Te vejo na mentoria!"
   ]
  }
 ],
 "metadata": {
  "kernelspec": {
   "display_name": "Python 3",
   "language": "python",
   "name": "python3"
  },
  "language_info": {
   "codemirror_mode": {
    "name": "ipython",
    "version": 3
   },
   "file_extension": ".py",
   "mimetype": "text/x-python",
   "name": "python",
   "nbconvert_exporter": "python",
   "pygments_lexer": "ipython3",
   "version": "3.8.10"
  },
  "rise": {
   "autolaunch": true,
   "enable_chalkboard": true,
   "progress": true,
   "scroll": true,
   "slideNumber": true
  }
 },
 "nbformat": 4,
 "nbformat_minor": 4
}
