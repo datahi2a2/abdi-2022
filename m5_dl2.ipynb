{
 "cells": [
  {
   "cell_type": "markdown",
   "metadata": {},
   "source": [
    "[<center><img src=\"images/Logo_I2A2.webp\"></center>](https://www.i2a2.ca/)         \n",
    "Rev 1"
   ]
  },
  {
   "cell_type": "markdown",
   "metadata": {},
   "source": [
    "# Módulo 5"
   ]
  },
  {
   "cell_type": "markdown",
   "metadata": {
    "slideshow": {
     "slide_type": "slide"
    }
   },
   "source": [
    "# Aula 3 - Deep Learning - parte 2\n",
    "\n",
    "**Objetivo**: Apresentar os conceitos de deep learning"
   ]
  },
  {
   "cell_type": "markdown",
   "metadata": {},
   "source": [
    "Este material o auxiliará nas sessões de autoestudo, contudo, fique à vontade para consultar outras fontes de informações, mas nunca deixe de citá-las."
   ]
  },
  {
   "cell_type": "markdown",
   "metadata": {},
   "source": [
    "# Redes Neurais Recorrentes - RNN\n",
    "\n",
    "[![RNN](https://img.youtube.com/vi/94hG00EJFNo/hqdefault.jpg)](https://youtu.be/94hG00EJFNo \"RNN\")   \n",
    "\n",
    "* Leia os capítulos do livro [Deep Learning Book](https://www.deeplearningbook.com.br/):  \n",
    "    * [Capítulo 48 \"Redes Neurais Recorrentes\"](https://www.deeplearningbook.com.br/redes-neurais-recorrentes/);\n",
    "    \n",
    "    * [Capítulo 49 \"A Matemática do Backpropagation Through Time (BPTT)\"](https://www.deeplearningbook.com.br/a-matematica-do-backpropagation-through-time-bptt/);\n",
    "    \n",
    "    * [Capítulo 49 \"A Matemática da Dissipação do Gradiente e Aplicações das RNNs\"](https://www.deeplearningbook.com.br/a-matematica-da-dissipacao-do-gradiente-e-aplicacoes-das-rnns/);\n",
    "    \n",
    "    * [Capítulo 50 \"A Matemática do Problema de Dissipação do Gradiente em Deep Learning\"](https://www.deeplearningbook.com.br/a-matematica-do-problema-de-dissipacao-do-gradiente-em-deep-learning/).\n",
    "    \n",
    "\n",
    "* Da uma olha no [cap. 8 - Recurrent Neural Networks¶](https://d2l.ai/chapter_recurrent-neural-networks/index.html) do livro [Dive into Deep Learning](https://d2l.ai/index.html)\n",
    "    \n"
   ]
  },
  {
   "cell_type": "markdown",
   "metadata": {},
   "source": [
    "## Redes Neurais Long Short Term Memory (LSTM)\n",
    "\n",
    "* Leia o capítulo do livro [Deep Learning Book](https://www.deeplearningbook.com.br/): \n",
    "    \n",
    "   * [Capítulo 51 \"Arquitetura de Redes Neurais Long Short Term Memory (LSTM)\"](https://www.deeplearningbook.com.br/arquitetura-de-redes-neurais-long-short-term-memory/).\n",
    "   \n",
    "\n",
    "* Da uma olha no [cap. 9.2 - Modern Recurrent Neural Networks](https://d2l.ai/chapter_recurrent-modern/index.html) do livro [Dive into Deep Learning](https://d2l.ai/index.html)"
   ]
  },
  {
   "cell_type": "markdown",
   "metadata": {},
   "source": [
    "## Redes Neurais Gated Recurrent Unit (GRU)\n",
    "\n",
    "\n",
    "* Leia os capítulos do livro [Deep Learning Book](https://www.deeplearningbook.com.br/): \n",
    "    \n",
    "   * [Capítulo 52 \"Arquitetura de Redes Neurais Gated Recurrent Unit (GRU)\"](https://www.deeplearningbook.com.br/arquitetura-de-redes-neurais-gated-recurrent-unit-gru/);\n",
    "    \n",
    "   * [Capítulo 53 \"Matemática na GRU, Dissipação e Clipping do Gradiente\"](https://www.deeplearningbook.com.br/matematica-na-gru-dissipacao-e-clipping-do-gradiente/).\n",
    "   \n",
    "   \n",
    "* Da uma olha no [cap. 9.1 - Modern Recurrent Neural Networks](https://d2l.ai/chapter_recurrent-modern/index.html) do livro [Dive into Deep Learning](https://d2l.ai/index.html)"
   ]
  },
  {
   "cell_type": "markdown",
   "metadata": {},
   "source": [
    "# Redes Adversárias Generativas (GANs – Generative Adversarial Networks)\n",
    "[![GAN](https://img.youtube.com/vi/Qutg3srXSiU/hqdefault.jpg)](https://youtu.be/Qutg3srXSiU \"GAN\")  \n",
    "\n",
    "[![GAN](https://img.youtube.com/vi/1TytGqVm4Gs/hqdefault.jpg)](https://youtu.be/1TytGqVm4Gs \"GAN\")   \n",
    "\n",
    "\n",
    "* Leia os capítulos do livro [Deep Learning Book](https://www.deeplearningbook.com.br/): \n",
    "    \n",
    "   * [Capítulo 54 \"Introdução às Redes Adversárias Generativas (GANs – Generative Adversarial Networks)\"](https://www.deeplearningbook.com.br/introducao-as-redes-adversarias-generativas-gans-generative-adversarial-networks/);\n",
    "    \n",
    "   * [Capítulo 55 \"Geração de Variáveis Aleatórias – Uma das Bases dos Modelos Generativos em GANs (Generative Adversarial Networks)\"](https://www.deeplearningbook.com.br/geracao-de-variaveis-aleatorias-uma-das-bases-dos-modelos-generativos-em-gans-generative-adversarial-networks/);\n",
    "   \n",
    "   * [Capítulo 56 \"Modelos Generativos – O Diferencial das GANs (Generative Adversarial Networks)\"](https://www.deeplearningbook.com.br/modelos-generativos-o-diferencial-das-gans-generative-adversarial-networks/);\n",
    "   \n",
    "   * [Capítulo 57 \"Os Detalhes Matemáticos das GANs (Generative Adversarial Networks)\"](https://www.deeplearningbook.com.br/os-detalhes-matematicos-das-gans-generative-adversarial-networks/).\n",
    "   \n",
    "   \n",
    "* Da uma olha no [cap. 17 - Generative Adversarial Networks](https://d2l.ai/chapter_generative-adversarial-networks/index.html) do livro [Dive into Deep Learning](https://d2l.ai/index.html)"
   ]
  },
  {
   "cell_type": "markdown",
   "metadata": {},
   "source": [
    "# Quer saber mais\n",
    "\n",
    "* Assista as aulas sobre RNN e GAN do prof. Dalcimar Casanova:\n",
    "\n",
    "[![RNN](https://img.youtube.com/vi/n7jWzlMDT-0/hqdefault.jpg)](https://youtu.be/n7jWzlMDT-0 \"RNN\")\n",
    "    \n",
    "[![RNN](https://img.youtube.com/vi/vrEMGdfDB7A/hqdefault.jpg)](https://youtu.be/vrEMGdfDB7A \"RNN\")\n",
    "    \n",
    "[![GAN](https://img.youtube.com/vi/zAESjdU_QyE/hqdefault.jpg)](https://youtu.be/zAESjdU_QyE \"GAN\")\n",
    "    \n",
    "[![GAN](https://img.youtube.com/vi/dzLDlWllKNU/hqdefault.jpg)](https://youtu.be/dzLDlWllKNU \"GAN\")"
   ]
  },
  {
   "cell_type": "markdown",
   "metadata": {},
   "source": [
    "# Gosta de livros ...    \n",
    "\n",
    "[Deep Learning Book - pt_br](https://www.deeplearningbook.com.br/)\n",
    "\n",
    "[Dive into Deep Learning](https://d2l.ai/index.html)\n"
   ]
  },
  {
   "cell_type": "markdown",
   "metadata": {},
   "source": [
    "Qualquer dúvida, poste no fórum da disciplina.\n",
    "### Te vejo na mentoria!"
   ]
  }
 ],
 "metadata": {
  "kernelspec": {
   "display_name": "Python 3",
   "language": "python",
   "name": "python3"
  },
  "language_info": {
   "codemirror_mode": {
    "name": "ipython",
    "version": 3
   },
   "file_extension": ".py",
   "mimetype": "text/x-python",
   "name": "python",
   "nbconvert_exporter": "python",
   "pygments_lexer": "ipython3",
   "version": "3.8.10"
  },
  "rise": {
   "autolaunch": true,
   "enable_chalkboard": true,
   "progress": true,
   "scroll": true,
   "slideNumber": true
  }
 },
 "nbformat": 4,
 "nbformat_minor": 4
}
