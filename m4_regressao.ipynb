{
 "cells": [
  {
   "cell_type": "markdown",
   "metadata": {},
   "source": [
    "[<center><img src=\"images/Logo_I2A2.webp\"></center>](https://www.i2a2.ca/)         \n",
    "Rev 7"
   ]
  },
  {
   "cell_type": "markdown",
   "metadata": {},
   "source": [
    "# Módulo 4"
   ]
  },
  {
   "cell_type": "markdown",
   "metadata": {
    "slideshow": {
     "slide_type": "slide"
    }
   },
   "source": [
    "# Aula 2 - Regressão\n",
    "\n",
    "**Objetivo**: Apresentar os algoritmos de regressão"
   ]
  },
  {
   "cell_type": "markdown",
   "metadata": {},
   "source": [
    "Este material o auxiliará nas sessões de autoestudo, contudo, fique à vontade para consultar outras fontes de informações, mas nunca deixe de citá-las."
   ]
  },
  {
   "cell_type": "markdown",
   "metadata": {},
   "source": [
    "# Escolhendo o algoritmo/modelo (estimador) correto\n",
    "\n",
    "Muitas vezes, a parte mais difícil de resolver um problema de aprendizado de máquina pode ser encontrar o estimador certo para o trabalho.     \n",
    "O fluxograma abaixo foi projetado para fornecer aos usuários um guia aproximado sobre como abordar problemas em relação a quais estimadores devem ser testados em seus dados.    \n",
    "Clique em qualquer estimador no gráfico abaixo para ver sua documentação.\n",
    "\n",
    "[<img src=\"images/ml_map.png\"/>](https://scikit-learn.org/stable/tutorial/machine_learning_map/index.html)"
   ]
  },
  {
   "cell_type": "markdown",
   "metadata": {},
   "source": [
    "# Estimadores de Regressão\n",
    "\n",
    "* Clique em cada um dos estimadores de regressão (caixas verdes) para a acessar suas documentações.\n",
    "    - Liste os estimadores existentes;\n",
    "    - Acesse exemplos;\n",
    "    - Atente para a formulação matemática dos modelos."
   ]
  },
  {
   "cell_type": "markdown",
   "metadata": {},
   "source": [
    "## SVR - Support Vector Regression (Regressão de Vetor Suporte)\n",
    "\n",
    "* Assista aos vídeos ... \n",
    "\n",
    "[![SVR1](https://img.youtube.com/vi/bZ8ZUcV2b20/hqdefault.jpg)](https://youtu.be/bZ8ZUcV2b20 \"Máquina e Regressão de Vetor Suporte 1\") \n",
    "\n",
    "[![SVR2](https://img.youtube.com/vi/_LVRdJ4uVKY/hqdefault.jpg)](https://youtu.be/_LVRdJ4uVKY \"Máquina e Regressão de Vetor Suporte 2\") \n",
    "\n",
    "[![SVR](https://img.youtube.com/vi/-EjQWqHMsog/hqdefault.jpg)](https://youtu.be/-EjQWqHMsog \"SVR\")   \n",
    "\n",
    "* Veja a documentação do SVR no [Scikit-learn](https://scikit-learn.org/stable/modules/generated/sklearn.svm.SVR.html#sklearn.svm.SVR)"
   ]
  },
  {
   "cell_type": "markdown",
   "metadata": {},
   "source": [
    "## SGD Regressor - Stochastic Gradient Descent Regressor\n",
    "\n",
    "* Assista aos vídeos ... \n",
    "\n",
    "[![sgd](https://img.youtube.com/vi/W9iWNJNFzQI/hqdefault.jpg)](https://youtu.be/W9iWNJNFzQI \"sgd\") "
   ]
  },
  {
   "cell_type": "markdown",
   "metadata": {},
   "source": [
    "## Lasso\n",
    "\n",
    "* Assista ao vídeo ... \n",
    "\n",
    "[![lasso](https://img.youtube.com/vi/cVFYhlCCI_8/hqdefault.jpg)](https://youtu.be/cVFYhlCCI_8 \"lasso\") \n"
   ]
  },
  {
   "cell_type": "markdown",
   "metadata": {},
   "source": [
    "## ElasticNet\n",
    "* Assista ao vídeo ... \n",
    "\n",
    "[![ElasticNet](https://img.youtube.com/vi/lOnxA6JgNmc/hqdefault.jpg)](https://youtu.be/lOnxA6JgNmc \"ElasticNet\") "
   ]
  },
  {
   "cell_type": "markdown",
   "metadata": {},
   "source": [
    "## Ensemble Regressor\n",
    "\n",
    "\n",
    "* Leia o artigo: [Ensemble Machine Learning Algorithms in Python with scikit-learn](https://machinelearningmastery.com/ensemble-machine-learning-algorithms-python-scikit-learn/)"
   ]
  },
  {
   "cell_type": "markdown",
   "metadata": {},
   "source": [
    "## Ridge Regressor\n",
    "\n",
    "* Assista ao vídeo ... \n",
    "\n",
    "[![Ridge](https://img.youtube.com/vi/Q81RR3yKn30/hqdefault.jpg)](https://youtu.be/Q81RR3yKn30 \"Ridge\")\n",
    "\n",
    "\n",
    "# Regressão Linear\n",
    "* Veja o vídeo **Como Fazer Regressão Linear em Python (Statsmodels e Scikit-learn)** do Mario Filho\n",
    "[![Ridge](https://img.youtube.com/vi/MPkNWpwxz7M/hqdefault.jpg)](https://youtu.be/MPkNWpwxz7M \"Ridge\")   \n",
    "\n",
    "* Veja a documentação da Regressão Linear no [Scikit-learn](https://scikit-learn.org/stable/modules/generated/sklearn.linear_model.LinearRegression.html)"
   ]
  },
  {
   "cell_type": "markdown",
   "metadata": {},
   "source": [
    "# Exercício 1\n",
    "\n",
    "* Execute o notebook **Regressão Linear**\n",
    "\n",
    "    - Opte, quando houver opção, pelo Bind e/ou Colab;   \n",
    "    - Obs.: No Binder, para sair do modo apresentação (rise) do notebook, click no **x** do lado superior esquerdo!\n",
    "\n",
    "[![Binder](https://mybinder.org/badge_logo.svg)](https://mybinder.org/v2/gh/storopoli/ciencia-de-dados/main?filepath=notebooks%2FAula_11_Regressao_Linear.ipynb)\n",
    "<br>\n",
    "[![Open In Colab](https://colab.research.google.com/assets/colab-badge.svg)](https://colab.research.google.com/github/storopoli/ciencia-de-dados/blob/main/notebooks/Aula_11_Regressao_Linear.ipynb)"
   ]
  },
  {
   "cell_type": "markdown",
   "metadata": {},
   "source": [
    "# Exercício 2\n",
    "\n",
    "* Execute o notebook **Regressão Logística**\n",
    "\n",
    "[![Binder](https://mybinder.org/badge_logo.svg)](https://mybinder.org/v2/gh/storopoli/ciencia-de-dados/main?filepath=notebooks%2FAula_12_Regressao_Logistica.ipynb)\n",
    "<br>\n",
    "[![Open In Colab](https://colab.research.google.com/assets/colab-badge.svg)](https://colab.research.google.com/github/storopoli/ciencia-de-dados/blob/main/notebooks/Aula_12_Regressao_Logistica.ipynb)"
   ]
  },
  {
   "cell_type": "markdown",
   "metadata": {},
   "source": [
    "# Quer saber mais\n",
    "\n",
    "\n",
    "* Execute o notebook **Regression Tutorial Level Beginner** para praticar com o PyCaret (AutoML)\n",
    "\n",
    "[![Binder](https://mybinder.org/badge_logo.svg)](https://mybinder.org/v2/gh/pycaret/pycaret/master?filepath=tutorials/Binary%20Classification%20Tutorial%20Level%20Beginner%20-%20%20CLF101.ipynb)\n",
    "<br>\n",
    "[![Open In Colab](https://colab.research.google.com/assets/colab-badge.svg)](https://colab.research.google.com/github/pycaret/pycaret/blob/master/tutorials/Regression%20Tutorial%20Level%20Beginner%20-%20REG101.ipynb)\n",
    "\n",
    "\n",
    "Assista ao vídeo ...\n",
    "[![MLindustria](https://img.youtube.com/vi/erzt6Txvzdo/hqdefault.jpg)](https://youtu.be/erzt6Txvzdo \"MLindustria\")\n",
    "\n",
    "[![Regressão](https://img.youtube.com/vi/_1EJu-CQEWI/hqdefault.jpg)](https://youtu.be/_1EJu-CQEWI \"Regressão\")\n",
    "\n",
    "[![regressao](https://img.youtube.com/vi/tgMn1LJAdHc/hqdefault.jpg)](https://youtu.be/tgMn1LJAdHc \"regressao\")\n",
    "\n",
    "[![aprendestat](https://img.youtube.com/vi/B_jeYKRqQ2U/hqdefault.jpg)](https://youtu.be/B_jeYKRqQ2U \"aprendestat\")\n",
    "\n",
    "* Assista a playlist [Machine Learning | Python e scikit-learning](https://www.youtube.com/watch?v=BQFS7dxMNuM&list=PL5fQ3JoS0SZs2X_eN2QA555boD21alEUf) e explore também esse [GitHub](https://github.com/ronaldolagepessoa/machine-learning)\n",
    "\n",
    "* Explore o canal [Machine Learning Full Course - Learn Machine Learning 10 Hours | Machine Learning Tutorial | Edureka](https://www.youtube.com/watch?v=GwIo3gDZCVQ&list=PL9ooVrP1hQOHUfd-g8GUpKI3hHOwM_9Dn)   \n",
    "\n",
    "* Assista ao vídeo ...\n",
    "[![Introdução aos Modelos de Aprendizado de Máquina](https://img.youtube.com/vi/asiv1a7A7-I/hqdefault.jpg)](https://youtu.be/asiv1a7A7-I \"Introdução aos Modelos de Aprendizado de Máquina\")  \n",
    "\n",
    "* Leia o artigo [Como funciona uma Regressão Linear?](https://medium.com/data-hackers/como-funciona-uma-regress%C3%A3o-linear-f7208fa6c662)\n",
    "\n",
    "* Assista ao vídeo\n",
    "[![aprendestat](https://img.youtube.com/vi/mTPlV-pzCnM/hqdefault.jpg)](https://youtu.be/mTPlV-pzCnM \"Combinando modelos de Machine Learning com Lógica Fuzzy\")\n",
    "\n",
    "\n",
    "# O Futuro do Trabalho\n",
    "\n",
    "* Nas aulas passadas exploramos cada uma das 10 habilidades citadas no relatório [Future of Jobs: The top 10 skills to be developed by 2025](http://www3.weforum.org/docs/WEF_Future_of_Jobs_2020.pdf), bem como alguns artigos tratando das principais Soft Skills para a área de dados e ainda você deve ter realizado o check-up de algumas de suas soft skills na Conquer.\n",
    "\n",
    "* Vamos agora apresentar uma ferramenta de mapeamento de perfil comportamental conhecida como DISC.\n",
    "\n",
    "    - Leia o artigo [Teste DISC: O que é e como aplicar na sua empresa?](https://fia.com.br/blog/teste-disc/) e faça o seu mapeamento no portal [propositomaior](https://www.propositomaior.com.br/teste-disc-gratuito/)."
   ]
  },
  {
   "cell_type": "markdown",
   "metadata": {},
   "source": [
    "# Gosta de livros   \n",
    "\n",
    "[Hands on Machine Learning with Scikit Learn and Tensorflow.](http://index-of.es/Varios-2/Hands%20on%20Machine%20Learning%20with%20Scikit%20Learn%20and%20Tensorflow.pdf) \n",
    "\n",
    "[Mastering Machine Learning with scikit-learn](http://www.smallake.kr/wp-content/uploads/2017/03/Mastering-Machine-Learning-with-scikit-learn.pdf)"
   ]
  },
  {
   "cell_type": "markdown",
   "metadata": {},
   "source": [
    "Qualquer dúvida, poste no fórum da disciplina.\n",
    "### Te vejo na mentoria!"
   ]
  }
 ],
 "metadata": {
  "kernelspec": {
   "display_name": "Python 3",
   "language": "python",
   "name": "python3"
  },
  "language_info": {
   "codemirror_mode": {
    "name": "ipython",
    "version": 3
   },
   "file_extension": ".py",
   "mimetype": "text/x-python",
   "name": "python",
   "nbconvert_exporter": "python",
   "pygments_lexer": "ipython3",
   "version": "3.8.10"
  },
  "rise": {
   "autolaunch": true,
   "enable_chalkboard": true,
   "progress": true,
   "scroll": true,
   "slideNumber": true
  }
 },
 "nbformat": 4,
 "nbformat_minor": 4
}
