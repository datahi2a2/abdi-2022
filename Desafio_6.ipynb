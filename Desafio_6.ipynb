{
 "cells": [
  {
   "cell_type": "markdown",
   "id": "b5699dff",
   "metadata": {},
   "source": [
    "<center><img src=\"images/Logo_I2A2.webp\", width=250></center>  "
   ]
  },
  {
   "cell_type": "markdown",
   "id": "46f682a7",
   "metadata": {},
   "source": [
    "# Desafio 6"
   ]
  },
  {
   "cell_type": "markdown",
   "id": "f3f18b3e",
   "metadata": {},
   "source": [
    "No desafio anterior, supomos que **estávamos em 2012**; e, utilizando **dados reais de entradas de passageiros dos anos de 1989 até 2012**, você propôs um **modelo preditivo de previsão da demanda de passageiros para uma linha de Metrô**, utilizando como variáveis preditoras indicadores econômicos, e ainda, realizou a **previsão de demanda de passageiros desta linha de 2013 até 2022**."
   ]
  },
  {
   "cell_type": "markdown",
   "id": "5878707d",
   "metadata": {},
   "source": [
    "<center><img src=\"images/DemandaMetro.png\", width=900></center>  "
   ]
  },
  {
   "cell_type": "markdown",
   "id": "dcdbf054",
   "metadata": {},
   "source": [
    "Nos artigos: [IMPACTO DOS INDICADORES PRODUTO INTERNO BRUTO E TAXA DE DESEMPREGO NA DEMANDA DE PASSAGEIROS DA LINHA 3 - VERMELHA DO METRÔ DE SÃO PAULO](https://www.researchgate.net/publication/269225090_IMPACT_OF_INDICATORS_GDP_AND_UNEMPLOYMENT_RATE_ON_DEMAND_PASSENGER_OF_LINE_3_ON_THE_SO_PAULO_SUBWAY) e [GDP and the Unemployment Rate Impact in the Demand for Subway Passengers in São\n",
    "Paulo](http://ajbasweb.com/old/ajbas/2015/July/672-681.pdf), os autores propõem um modelo preditivo utilizando como variáveis preditoras da demanda de passageiros os indicadores PIB brasileiro e Taxa de Desemprego (TD) da Região Metropolitana de São Paulo.    \n",
    "Para isto, utilizaram na construção do modelo técnicas de regressão linear múltipla, no qual, em média, as variáveis preditoras propostas explicaram 93,6% (R² ajustado) das variações da variável dependente (demanda de passageiros)."
   ]
  },
  {
   "cell_type": "markdown",
   "id": "fa5bd94f",
   "metadata": {},
   "source": [
    "# Modelo proposto\n",
    "\n",
    "## Demanda anual passageiros = 271.367.416,0 + 27,9 * PIB - 4.004.648,6 * TD"
   ]
  },
  {
   "cell_type": "markdown",
   "id": "c3b5ed96",
   "metadata": {},
   "source": [
    "Com o modelo definido, os autores buscaram projeções do PIB e da TD e realizaram a previsão da demanda para o período de 2013 até 2020."
   ]
  },
  {
   "cell_type": "markdown",
   "id": "9ca7d264",
   "metadata": {},
   "source": [
    "<center><img src=\"images/d6_projecoes_PIB_TD.png\", width=900></center>  "
   ]
  },
  {
   "cell_type": "markdown",
   "id": "c06fb578",
   "metadata": {},
   "source": [
    "<center><img src=\"images/d6_previsao.png\", width=900></center>  "
   ]
  },
  {
   "cell_type": "markdown",
   "id": "53071e34",
   "metadata": {},
   "source": [
    "Conforme gráfico acima, em 2020 a previsão de demanda anual para a linha era da ordem de 400 milhões de passageiros."
   ]
  },
  {
   "cell_type": "markdown",
   "id": "7ecb7e51",
   "metadata": {},
   "source": [
    "## Agora voltamos para o presente!\n",
    "\n",
    "Temos os dados atualizados da demanda de passageiros até junho de 2022, ou seja, podemos comparar as previsões realizadas pelos autores dos artigos, bem como as que vocês realizaram no desafio anterior.\n",
    "\n",
    "O arquivo [DemandaMetroAtual.xlsx](https://github.com/vsvasconcelos/i2a2/blob/main/DemandaMetroAtual.xlsx) possui as totalizações mensais de entrada de passageiros, bem como as respectivas médias em dias úteis (DU) atualizadas até junho de 2022."
   ]
  },
  {
   "cell_type": "code",
   "execution_count": 5,
   "id": "985ab318",
   "metadata": {},
   "outputs": [],
   "source": [
    "import pandas as pd\n",
    "dados = pd.read_excel('DemandaMetroAtual.xlsx')  "
   ]
  },
  {
   "cell_type": "code",
   "execution_count": 6,
   "id": "e39b7372",
   "metadata": {},
   "outputs": [
    {
     "data": {
      "text/html": [
       "<div>\n",
       "<style scoped>\n",
       "    .dataframe tbody tr th:only-of-type {\n",
       "        vertical-align: middle;\n",
       "    }\n",
       "\n",
       "    .dataframe tbody tr th {\n",
       "        vertical-align: top;\n",
       "    }\n",
       "\n",
       "    .dataframe thead th {\n",
       "        text-align: right;\n",
       "    }\n",
       "</style>\n",
       "<table border=\"1\" class=\"dataframe\">\n",
       "  <thead>\n",
       "    <tr style=\"text-align: right;\">\n",
       "      <th></th>\n",
       "      <th>Mês/Ano</th>\n",
       "      <th>Entradas</th>\n",
       "      <th>Unnamed: 2</th>\n",
       "    </tr>\n",
       "  </thead>\n",
       "  <tbody>\n",
       "    <tr>\n",
       "      <th>0</th>\n",
       "      <td>NaN</td>\n",
       "      <td>TOTAL</td>\n",
       "      <td>MÉDIA DU</td>\n",
       "    </tr>\n",
       "    <tr>\n",
       "      <th>1</th>\n",
       "      <td>1989-01-01 00:00:00</td>\n",
       "      <td>17582640</td>\n",
       "      <td>685614</td>\n",
       "    </tr>\n",
       "    <tr>\n",
       "      <th>2</th>\n",
       "      <td>1989-02-01 00:00:00</td>\n",
       "      <td>16054636</td>\n",
       "      <td>724491</td>\n",
       "    </tr>\n",
       "    <tr>\n",
       "      <th>3</th>\n",
       "      <td>1989-03-01 00:00:00</td>\n",
       "      <td>19435854</td>\n",
       "      <td>770336</td>\n",
       "    </tr>\n",
       "    <tr>\n",
       "      <th>4</th>\n",
       "      <td>1989-04-01 00:00:00</td>\n",
       "      <td>19288983</td>\n",
       "      <td>786977</td>\n",
       "    </tr>\n",
       "  </tbody>\n",
       "</table>\n",
       "</div>"
      ],
      "text/plain": [
       "               Mês/Ano  Entradas Unnamed: 2\n",
       "0                  NaN     TOTAL   MÉDIA DU\n",
       "1  1989-01-01 00:00:00  17582640     685614\n",
       "2  1989-02-01 00:00:00  16054636     724491\n",
       "3  1989-03-01 00:00:00  19435854     770336\n",
       "4  1989-04-01 00:00:00  19288983     786977"
      ]
     },
     "execution_count": 6,
     "metadata": {},
     "output_type": "execute_result"
    }
   ],
   "source": [
    "dados.head(5)"
   ]
  },
  {
   "cell_type": "code",
   "execution_count": 7,
   "id": "5f2d180b",
   "metadata": {},
   "outputs": [
    {
     "data": {
      "text/html": [
       "<div>\n",
       "<style scoped>\n",
       "    .dataframe tbody tr th:only-of-type {\n",
       "        vertical-align: middle;\n",
       "    }\n",
       "\n",
       "    .dataframe tbody tr th {\n",
       "        vertical-align: top;\n",
       "    }\n",
       "\n",
       "    .dataframe thead th {\n",
       "        text-align: right;\n",
       "    }\n",
       "</style>\n",
       "<table border=\"1\" class=\"dataframe\">\n",
       "  <thead>\n",
       "    <tr style=\"text-align: right;\">\n",
       "      <th></th>\n",
       "      <th>Mês/Ano</th>\n",
       "      <th>Entradas</th>\n",
       "      <th>Unnamed: 2</th>\n",
       "    </tr>\n",
       "  </thead>\n",
       "  <tbody>\n",
       "    <tr>\n",
       "      <th>432</th>\n",
       "      <td>2022-03-01 00:00:00</td>\n",
       "      <td>21835470</td>\n",
       "      <td>840015</td>\n",
       "    </tr>\n",
       "    <tr>\n",
       "      <th>433</th>\n",
       "      <td>2022-04-01 00:00:00</td>\n",
       "      <td>20508409</td>\n",
       "      <td>858852</td>\n",
       "    </tr>\n",
       "    <tr>\n",
       "      <th>434</th>\n",
       "      <td>2022-05-01 00:00:00</td>\n",
       "      <td>22452936</td>\n",
       "      <td>846676</td>\n",
       "    </tr>\n",
       "    <tr>\n",
       "      <th>435</th>\n",
       "      <td>2022-06-01 00:00:00</td>\n",
       "      <td>20959085</td>\n",
       "      <td>822865</td>\n",
       "    </tr>\n",
       "    <tr>\n",
       "      <th>436</th>\n",
       "      <td>2022</td>\n",
       "      <td>119611575</td>\n",
       "      <td>791770.166667</td>\n",
       "    </tr>\n",
       "  </tbody>\n",
       "</table>\n",
       "</div>"
      ],
      "text/plain": [
       "                 Mês/Ano   Entradas     Unnamed: 2\n",
       "432  2022-03-01 00:00:00   21835470         840015\n",
       "433  2022-04-01 00:00:00   20508409         858852\n",
       "434  2022-05-01 00:00:00   22452936         846676\n",
       "435  2022-06-01 00:00:00   20959085         822865\n",
       "436                 2022  119611575  791770.166667"
      ]
     },
     "execution_count": 7,
     "metadata": {},
     "output_type": "execute_result"
    }
   ],
   "source": [
    "dados.tail(5)"
   ]
  },
  {
   "cell_type": "markdown",
   "id": "f796f5f0",
   "metadata": {},
   "source": [
    "## Tarefa 1\n",
    "\n",
    "Busque pelos dados atualizados do PIB e da TD de 2013 até 2021 e utilize o modelo proposto pelos autores dos artigos para calcular a demanda anual de passageiros."
   ]
  },
  {
   "cell_type": "markdown",
   "id": "8b968ede",
   "metadata": {},
   "source": [
    "## Tarefa 2\n",
    "\n",
    "Compare os dados obtidos na tarefa 1 com os resultados reais do histórico de passageiros obtidos do arquivo **DemandaMetroAtual.xlsx**"
   ]
  },
  {
   "cell_type": "markdown",
   "id": "b2d8ed90",
   "metadata": {},
   "source": [
    "## Tarefa 3\n",
    "Compare os resultados do seu modelo de previsão, proposto no desafio anterior, com os resultados reais do histórico de passageiros obtidos do arquivo **DemandaMetroAtual.xlsx**"
   ]
  },
  {
   "cell_type": "markdown",
   "id": "56c0ee7f",
   "metadata": {},
   "source": [
    "## Tarefa 4\n",
    "\n",
    "Com as lições aprendidas no estudo dos artigos apresentados e no desenvolvimento do desafio anterior, proponha melhorias no seu modelo de previsão de demanda de passageiros.   \n",
    "Necessitamos saber a previsão anual de passageiros na linha em questão até 2030.   "
   ]
  }
 ],
 "metadata": {
  "kernelspec": {
   "display_name": "Python 3",
   "language": "python",
   "name": "python3"
  },
  "language_info": {
   "codemirror_mode": {
    "name": "ipython",
    "version": 3
   },
   "file_extension": ".py",
   "mimetype": "text/x-python",
   "name": "python",
   "nbconvert_exporter": "python",
   "pygments_lexer": "ipython3",
   "version": "3.8.10"
  }
 },
 "nbformat": 4,
 "nbformat_minor": 5
}
